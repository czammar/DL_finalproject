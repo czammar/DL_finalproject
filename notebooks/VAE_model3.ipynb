{
  "nbformat": 4,
  "nbformat_minor": 0,
  "metadata": {
    "kernelspec": {
      "display_name": "Python 3",
      "language": "python",
      "name": "python3"
    },
    "language_info": {
      "codemirror_mode": {
        "name": "ipython",
        "version": 3
      },
      "file_extension": ".py",
      "mimetype": "text/x-python",
      "name": "python",
      "nbconvert_exporter": "python",
      "pygments_lexer": "ipython3",
      "version": "3.7.6"
    },
    "colab": {
      "name": "VAE_3.ipynb",
      "provenance": [],
      "collapsed_sections": []
    },
    "accelerator": "GPU"
  },
  "cells": [
    {
      "cell_type": "code",
      "metadata": {
        "id": "B2kxbpO_agtZ",
        "colab_type": "code",
        "outputId": "7efe6d10-d1d2-46b6-d0ce-42b6d38dc8f1",
        "colab": {
          "base_uri": "https://localhost:8080/",
          "height": 32
        }
      },
      "source": [
        "# Leemos los pickles de imagenes y embedding de texto\n",
        "# En caso contrario perdiamos mucho tiempo ...\n",
        "from google.colab import drive\n",
        "drive.mount('/content/drive') "
      ],
      "execution_count": 1,
      "outputs": [
        {
          "output_type": "stream",
          "text": [
            "Drive already mounted at /content/drive; to attempt to forcibly remount, call drive.mount(\"/content/drive\", force_remount=True).\n"
          ],
          "name": "stdout"
        }
      ]
    },
    {
      "cell_type": "code",
      "metadata": {
        "id": "I91k9utlb2Jm",
        "colab_type": "code",
        "colab": {}
      },
      "source": [
        "# Path donde se alojan los pickles (cambiarlo segun corresponda)\n",
        "path=\"/content/drive/My Drive/pickle_flicker8/\""
      ],
      "execution_count": 0,
      "outputs": []
    },
    {
      "cell_type": "code",
      "metadata": {
        "id": "1uYNQGlzcWRq",
        "colab_type": "code",
        "outputId": "a06289cc-ea60-422e-e6be-66993b2d3c70",
        "colab": {
          "base_uri": "https://localhost:8080/",
          "height": 32
        }
      },
      "source": [
        "# Verificamos qie exisnta los pickles en el path\n",
        "!ls /content/drive/'My Drive'/pickle_flicker8/"
      ],
      "execution_count": 3,
      "outputs": [
        {
          "output_type": "stream",
          "text": [
            "x_test.pkl  x_train.pkl  y_test64.pkl  y_train64.pkl\n"
          ],
          "name": "stdout"
        }
      ]
    },
    {
      "cell_type": "markdown",
      "metadata": {
        "id": "f7jroS6GAZ5u",
        "colab_type": "text"
      },
      "source": [
        "**Importamos librerias relevantes**"
      ]
    },
    {
      "cell_type": "code",
      "metadata": {
        "id": "COnbJVo1WOZ8",
        "colab_type": "code",
        "colab": {}
      },
      "source": [
        "import pickle\n",
        "import numpy as np\n",
        "import pandas as pd\n",
        "import matplotlib.pyplot as plt\n",
        "from tensorflow.keras.datasets import mnist\n",
        "\n",
        "import tensorflow as tf\n",
        "from tensorflow.keras.models import Model, Sequential\n",
        "from tensorflow.keras import layers\n",
        "from tensorflow.keras.layers import Input, Conv2D, Conv2DTranspose, Dense, \\\n",
        "Lambda, Dropout, UpSampling2D, MaxPooling2D\n",
        "from tensorflow.keras.losses import binary_crossentropy, MeanSquaredError,\\\n",
        "MeanAbsoluteError\n",
        "from tensorflow.keras.utils import plot_model\n",
        "from tensorflow.keras.optimizers import Adam, SGD, RMSprop\n",
        "from tensorflow.keras.backend import reshape"
      ],
      "execution_count": 0,
      "outputs": []
    },
    {
      "cell_type": "code",
      "metadata": {
        "id": "3ztNyt5DWOan",
        "colab_type": "code",
        "colab": {}
      },
      "source": [
        "# Carga pickles de imagenes a color (64,64,3)\n",
        "# Nota: se deben procesar los datos, dado que esta en una tupla\n",
        "\n",
        "# Datos de imagenes\n",
        "y_train_pk = np.load('/content/drive/My Drive/pickle_flicker8/y_train64.pkl', allow_pickle=True)\n",
        "y_test_pk = np.load('/content/drive/My Drive/pickle_flicker8/y_test64.pkl', allow_pickle=True)"
      ],
      "execution_count": 0,
      "outputs": []
    },
    {
      "cell_type": "code",
      "metadata": {
        "id": "TrG3HyDLkZp4",
        "colab_type": "code",
        "outputId": "3d282309-6ae3-48a6-8290-661516512a46",
        "colab": {
          "base_uri": "https://localhost:8080/",
          "height": 32
        }
      },
      "source": [
        "y_test_pk[:,1][0].shape"
      ],
      "execution_count": 6,
      "outputs": [
        {
          "output_type": "execute_result",
          "data": {
            "text/plain": [
              "(64, 64, 3)"
            ]
          },
          "metadata": {
            "tags": []
          },
          "execution_count": 6
        }
      ]
    },
    {
      "cell_type": "code",
      "metadata": {
        "id": "kIprDRSgWObA",
        "colab_type": "code",
        "colab": {}
      },
      "source": [
        "# Carga pickles de encaje de texto usando gloveB50\n",
        "# Nota: se deben procesar los datos, dado que esta en una tupla\n",
        "\n",
        "x_train_pk = np.load('/content/drive/My Drive/pickle_flicker8/x_train.pkl', allow_pickle=True)\n",
        "x_test_pk = np.load('/content/drive/My Drive/pickle_flicker8/x_test.pkl', allow_pickle=True)"
      ],
      "execution_count": 0,
      "outputs": []
    },
    {
      "cell_type": "code",
      "metadata": {
        "id": "Jvm9Lpm_WObU",
        "colab_type": "code",
        "colab": {}
      },
      "source": [
        "# Transformamos las tuplas de los pickles y modificamos la estructura de los array\n",
        "# que contienen para que los reconozca tensorflow\n",
        "x_train = x_train_pk[:,1]\n",
        "y_train = y_train_pk[:,1]\n",
        "\n",
        "x_test = x_test_pk[:,1]\n",
        "y_test = y_test_pk[:,1]\n",
        "\n",
        "\n",
        "# np.concatenate consolida en un array lo que teniamos antes(como array de arrays)\n",
        "a = np.concatenate(x_train, axis=0 )\n",
        "x_train = a.reshape(32364,50)\n",
        "\n",
        "c = np.concatenate(y_train, axis=0 )\n",
        "y_train = c.reshape(32364,64, 64, 3)/255\n",
        "\n",
        "b = np.concatenate(x_test, axis=0 )\n",
        "x_test = b.reshape(8091,50)\n",
        "\n",
        "#y_test = d.reshape(8091,64, 64, 3)/255\n",
        "d = np.concatenate(y_test, axis=0 )\n",
        "y_test = d.reshape(8091,64, 64, 3)/255\n"
      ],
      "execution_count": 0,
      "outputs": []
    },
    {
      "cell_type": "code",
      "metadata": {
        "id": "63Q9TAD7ol8i",
        "colab_type": "code",
        "colab": {}
      },
      "source": [
        "del y_train_pk\n",
        "del y_test_pk\n",
        "del x_train_pk\n",
        "del x_test_pk"
      ],
      "execution_count": 0,
      "outputs": []
    },
    {
      "cell_type": "code",
      "metadata": {
        "id": "ELjkK1JOpj_a",
        "colab_type": "code",
        "outputId": "7c696642-5560-4a90-cb3e-4a1c2d3c0d61",
        "colab": {
          "base_uri": "https://localhost:8080/",
          "height": 32
        }
      },
      "source": [
        "x_test.shape"
      ],
      "execution_count": 10,
      "outputs": [
        {
          "output_type": "execute_result",
          "data": {
            "text/plain": [
              "(8091, 50)"
            ]
          },
          "metadata": {
            "tags": []
          },
          "execution_count": 10
        }
      ]
    },
    {
      "cell_type": "code",
      "metadata": {
        "id": "1PmzrRZaWObo",
        "colab_type": "code",
        "colab": {}
      },
      "source": [
        "# Funcion qye convierte a tensores los arreglos de numpy (ya no se usa)\n",
        "# https://www.tensorflow.org/api_docs/python/tf/convert_to_tensor\n",
        "def my_func(arg):\n",
        "  arg = tf.convert_to_tensor(arg, dtype=tf.float32)\n",
        "  return arg"
      ],
      "execution_count": 0,
      "outputs": []
    },
    {
      "cell_type": "code",
      "metadata": {
        "id": "SyYZq0mWWOc2",
        "colab_type": "code",
        "outputId": "4e41bc6a-46a2-48c2-edcf-3963a5de93d1",
        "colab": {
          "base_uri": "https://localhost:8080/",
          "height": 80
        }
      },
      "source": [
        "# Probamos una imagen, para verificar la correcta manipulacion de datos\n",
        "import tensorflow as tf\n",
        "tf.keras.preprocessing.image.array_to_img(y_test[40])"
      ],
      "execution_count": 12,
      "outputs": [
        {
          "output_type": "execute_result",
          "data": {
            "image/png": "[encoded data removed]",
            "text/plain": [
              "<PIL.Image.Image image mode=RGB size=64x64 at 0x7F8276D92B70>"
            ]
          },
          "metadata": {
            "tags": []
          },
          "execution_count": 12
        }
      ]
    },
    {
      "cell_type": "markdown",
      "metadata": {
        "id": "c_9XFtaCBomm",
        "colab_type": "text"
      },
      "source": [
        "**Modelo**\n",
        "\n",
        "Primero definimos una funcion auxiliar"
      ]
    },
    {
      "cell_type": "code",
      "metadata": {
        "id": "5ytGP723WOdM",
        "colab_type": "code",
        "colab": {}
      },
      "source": [
        "class Sampling(layers.Layer):\n",
        "  \"\"\"Uses (z_mean, z_log_var) to sample z, the vector encoding a digit.\"\"\"\n",
        "\n",
        "  def call(self, inputs):\n",
        "    z_mean, z_log_var = inputs\n",
        "    batch = tf.shape(z_mean)[0]\n",
        "    dim = tf.shape(z_mean)[1]\n",
        "    epsilon = tf.keras.backend.random_normal(shape=(batch, dim))\n",
        "    return z_mean + tf.exp(0.5 * z_log_var) * epsilon"
      ],
      "execution_count": 0,
      "outputs": []
    },
    {
      "cell_type": "markdown",
      "metadata": {
        "id": "3EZ_AD7oBwZp",
        "colab_type": "text"
      },
      "source": [
        "Definicion del encoder"
      ]
    },
    {
      "cell_type": "code",
      "metadata": {
        "id": "aPEXAoiwWOdb",
        "colab_type": "code",
        "outputId": "2f6faa82-641c-4988-9820-d8aa39455348",
        "colab": {
          "base_uri": "https://localhost:8080/",
          "height": 329
        }
      },
      "source": [
        "# Encoder\n",
        "# Nota: el input es consistente con el tamanio de Glove50\n",
        "# Modificar en caso de que probemos un encaje mas grande\n",
        "\n",
        "original_inputs = Input(shape=(50,), name='encoder_input')\n",
        "x = Dense(50, activation='relu')(original_inputs)\n",
        "z_mean = Dense(50, name='z_mean')(x)\n",
        "z_log_var = Dense(50, name='z_log_var')(x)\n",
        "z = Sampling()((z_mean, z_log_var))\n",
        "encoder = Model(inputs=original_inputs, outputs=z, name='encoder')\n",
        "\n",
        "# Final encoder\n",
        "encoder.summary()"
      ],
      "execution_count": 14,
      "outputs": [
        {
          "output_type": "stream",
          "text": [
            "Model: \"encoder\"\n",
            "__________________________________________________________________________________________________\n",
            "Layer (type)                    Output Shape         Param #     Connected to                     \n",
            "==================================================================================================\n",
            "encoder_input (InputLayer)      [(None, 50)]         0                                            \n",
            "__________________________________________________________________________________________________\n",
            "dense (Dense)                   (None, 50)           2550        encoder_input[0][0]              \n",
            "__________________________________________________________________________________________________\n",
            "z_mean (Dense)                  (None, 50)           2550        dense[0][0]                      \n",
            "__________________________________________________________________________________________________\n",
            "z_log_var (Dense)               (None, 50)           2550        dense[0][0]                      \n",
            "__________________________________________________________________________________________________\n",
            "sampling (Sampling)             (None, 50)           0           z_mean[0][0]                     \n",
            "                                                                 z_log_var[0][0]                  \n",
            "==================================================================================================\n",
            "Total params: 7,650\n",
            "Trainable params: 7,650\n",
            "Non-trainable params: 0\n",
            "__________________________________________________________________________________________________\n"
          ],
          "name": "stdout"
        }
      ]
    },
    {
      "cell_type": "code",
      "metadata": {
        "id": "E-YirY85Q-hy",
        "colab_type": "code",
        "outputId": "d99bbb46-c8d2-409a-a0dd-d62c2dc18120",
        "colab": {
          "base_uri": "https://localhost:8080/",
          "height": 368
        }
      },
      "source": [
        "plot_model(encoder,show_layer_names=True)"
      ],
      "execution_count": 15,
      "outputs": [
        {
          "output_type": "execute_result",
          "data": {
            "image/png": "[encoded data removed]",
            "text/plain": [
              "<IPython.core.display.Image object>"
            ]
          },
          "metadata": {
            "tags": []
          },
          "execution_count": 15
        }
      ]
    },
    {
      "cell_type": "markdown",
      "metadata": {
        "id": "SHOjtsbUCIE7",
        "colab_type": "text"
      },
      "source": [
        "Definicion del decoder"
      ]
    },
    {
      "cell_type": "code",
      "metadata": {
        "id": "tETVZt__WOdo",
        "colab_type": "code",
        "outputId": "ce3cc92f-db58-42ff-e259-7f2b44220f3c",
        "colab": {
          "base_uri": "https://localhost:8080/",
          "height": 378
        }
      },
      "source": [
        "# Decoder\n",
        "\n",
        "latent_inputs = Input(shape=(50,), name='z_sampling')\n",
        "x = Dense(300, activation='relu')(latent_inputs)\n",
        "x = Dropout(0.2)(x)\n",
        "x = Dense(600, activation='sigmoid')(x)\n",
        "x = Dropout(0.2)(x)\n",
        "x = Dense(12288, activation='sigmoid')(x)\n",
        "outputs = reshape(x, shape=(1, 64, 64, 3))\n",
        "decoder = Model(inputs=latent_inputs, outputs=outputs, name='decoder')\n",
        "\n",
        "# Final encoder\n",
        "decoder.summary()"
      ],
      "execution_count": 16,
      "outputs": [
        {
          "output_type": "stream",
          "text": [
            "Model: \"decoder\"\n",
            "_________________________________________________________________\n",
            "Layer (type)                 Output Shape              Param #   \n",
            "=================================================================\n",
            "z_sampling (InputLayer)      [(None, 50)]              0         \n",
            "_________________________________________________________________\n",
            "dense_1 (Dense)              (None, 300)               15300     \n",
            "_________________________________________________________________\n",
            "dropout (Dropout)            (None, 300)               0         \n",
            "_________________________________________________________________\n",
            "dense_2 (Dense)              (None, 600)               180600    \n",
            "_________________________________________________________________\n",
            "dropout_1 (Dropout)          (None, 600)               0         \n",
            "_________________________________________________________________\n",
            "dense_3 (Dense)              (None, 12288)             7385088   \n",
            "_________________________________________________________________\n",
            "tf_op_layer_Reshape (TensorF [(1, 64, 64, 3)]          0         \n",
            "=================================================================\n",
            "Total params: 7,580,988\n",
            "Trainable params: 7,580,988\n",
            "Non-trainable params: 0\n",
            "_________________________________________________________________\n"
          ],
          "name": "stdout"
        }
      ]
    },
    {
      "cell_type": "code",
      "metadata": {
        "id": "21goi4lBRX0O",
        "colab_type": "code",
        "outputId": "df8acb68-b0d9-4048-bcfa-39601cfbeb82",
        "colab": {
          "base_uri": "https://localhost:8080/",
          "height": 660
        }
      },
      "source": [
        "plot_model(decoder,show_layer_names=True)"
      ],
      "execution_count": 17,
      "outputs": [
        {
          "output_type": "execute_result",
          "data": {
            "image/png": "[encoded data removed]",
            "text/plain": [
              "<IPython.core.display.Image object>"
            ]
          },
          "metadata": {
            "tags": []
          },
          "execution_count": 17
        }
      ]
    },
    {
      "cell_type": "code",
      "metadata": {
        "id": "fD-5PNRJWOd5",
        "colab_type": "code",
        "outputId": "34594875-3a69-49c3-abd5-787e3dfb7f3a",
        "colab": {
          "base_uri": "https://localhost:8080/",
          "height": 362
        }
      },
      "source": [
        "# Modelo VAE\n",
        "outputs = decoder(z)\n",
        "vae = Model(inputs=original_inputs, outputs=outputs, name='vae')\n",
        "vae.summary()"
      ],
      "execution_count": 18,
      "outputs": [
        {
          "output_type": "stream",
          "text": [
            "Model: \"vae\"\n",
            "__________________________________________________________________________________________________\n",
            "Layer (type)                    Output Shape         Param #     Connected to                     \n",
            "==================================================================================================\n",
            "encoder_input (InputLayer)      [(None, 50)]         0                                            \n",
            "__________________________________________________________________________________________________\n",
            "dense (Dense)                   (None, 50)           2550        encoder_input[0][0]              \n",
            "__________________________________________________________________________________________________\n",
            "z_mean (Dense)                  (None, 50)           2550        dense[0][0]                      \n",
            "__________________________________________________________________________________________________\n",
            "z_log_var (Dense)               (None, 50)           2550        dense[0][0]                      \n",
            "__________________________________________________________________________________________________\n",
            "sampling (Sampling)             (None, 50)           0           z_mean[0][0]                     \n",
            "                                                                 z_log_var[0][0]                  \n",
            "__________________________________________________________________________________________________\n",
            "decoder (Model)                 (1, 64, 64, 3)       7580988     sampling[0][0]                   \n",
            "==================================================================================================\n",
            "Total params: 7,588,638\n",
            "Trainable params: 7,588,638\n",
            "Non-trainable params: 0\n",
            "__________________________________________________________________________________________________\n"
          ],
          "name": "stdout"
        }
      ]
    },
    {
      "cell_type": "code",
      "metadata": {
        "id": "U55TpotoRcUG",
        "colab_type": "code",
        "outputId": "e0859b9d-a5be-4e8f-d3a3-38d597ae7b61",
        "colab": {
          "base_uri": "https://localhost:8080/",
          "height": 464
        }
      },
      "source": [
        "plot_model(vae, show_layer_names=True)"
      ],
      "execution_count": 19,
      "outputs": [
        {
          "output_type": "execute_result",
          "data": {
            "image/png": "[encoded data removed]",
            "text/plain": [
              "<IPython.core.display.Image object>"
            ]
          },
          "metadata": {
            "tags": []
          },
          "execution_count": 19
        }
      ]
    },
    {
      "cell_type": "code",
      "metadata": {
        "id": "EZOtnqXRWOeI",
        "colab_type": "code",
        "colab": {}
      },
      "source": [
        "# Agregamos la divergencia Kullback Liber para regularizacion de funcion de perdida\n",
        "kl_loss = - 0.5 * tf.reduce_mean(\n",
        "    z_log_var - tf.square(z_mean) - tf.exp(z_log_var) + 1)\n",
        "vae.add_loss(kl_loss)"
      ],
      "execution_count": 0,
      "outputs": []
    },
    {
      "cell_type": "code",
      "metadata": {
        "id": "INK2vQMJA2-a",
        "colab_type": "code",
        "colab": {}
      },
      "source": [
        ""
      ],
      "execution_count": 0,
      "outputs": []
    },
    {
      "cell_type": "markdown",
      "metadata": {
        "id": "R-JANLXKC7SO",
        "colab_type": "text"
      },
      "source": [
        "Entrenamos"
      ]
    },
    {
      "cell_type": "code",
      "metadata": {
        "id": "9ib1AmAiWOeu",
        "colab_type": "code",
        "outputId": "99325f3d-2597-425a-c1c7-19bc04cdc7ea",
        "colab": {
          "base_uri": "https://localhost:8080/",
          "height": 345
        }
      },
      "source": [
        "# Train.\n",
        "optimizer = RMSprop(learning_rate=1e-3) #Adam(learning_rate=1e-4) #SGD(learning_rate=1e-4) # \n",
        "vae.compile(optimizer, loss = MeanSquaredError(), metrics=['accuracy'])\n",
        "hist=vae.fit(x_train,y_train, epochs=10, batch_size=1, shuffle=True, validation_data=(x_test,y_test) )"
      ],
      "execution_count": 21,
      "outputs": [
        {
          "output_type": "stream",
          "text": [
            "Epoch 1/10\n",
            "32364/32364 [==============================] - 125s 4ms/step - loss: 0.1097 - accuracy: 0.4691 - val_loss: 0.0667 - val_accuracy: 0.5113\n",
            "Epoch 2/10\n",
            "32364/32364 [==============================] - 124s 4ms/step - loss: 0.0667 - accuracy: 0.4775 - val_loss: 0.0667 - val_accuracy: 0.4840\n",
            "Epoch 3/10\n",
            "32364/32364 [==============================] - 124s 4ms/step - loss: 0.0667 - accuracy: 0.4759 - val_loss: 0.0667 - val_accuracy: 0.4814\n",
            "Epoch 4/10\n",
            "32364/32364 [==============================] - 122s 4ms/step - loss: 0.0667 - accuracy: 0.4757 - val_loss: 0.0667 - val_accuracy: 0.4932\n",
            "Epoch 5/10\n",
            "32364/32364 [==============================] - 123s 4ms/step - loss: 0.0667 - accuracy: 0.4751 - val_loss: 0.0667 - val_accuracy: 0.4677\n",
            "Epoch 6/10\n",
            "32364/32364 [==============================] - 120s 4ms/step - loss: 0.0667 - accuracy: 0.4733 - val_loss: 0.0669 - val_accuracy: 0.4685\n",
            "Epoch 7/10\n",
            "32364/32364 [==============================] - 120s 4ms/step - loss: 0.0667 - accuracy: 0.4773 - val_loss: 0.0667 - val_accuracy: 0.4677\n",
            "Epoch 8/10\n",
            "32364/32364 [==============================] - 122s 4ms/step - loss: 0.0667 - accuracy: 0.4714 - val_loss: 0.0667 - val_accuracy: 0.4834\n",
            "Epoch 9/10\n",
            "32364/32364 [==============================] - 121s 4ms/step - loss: 0.0667 - accuracy: 0.4743 - val_loss: 0.0667 - val_accuracy: 0.4804\n",
            "Epoch 10/10\n",
            "32364/32364 [==============================] - 121s 4ms/step - loss: 0.0667 - accuracy: 0.4781 - val_loss: 0.0667 - val_accuracy: 0.4555\n"
          ],
          "name": "stdout"
        }
      ]
    },
    {
      "cell_type": "code",
      "metadata": {
        "id": "-8QStqR3Qf3w",
        "colab_type": "code",
        "colab": {}
      },
      "source": [
        "#plot_model(vae, show_layer_names=True)"
      ],
      "execution_count": 0,
      "outputs": []
    },
    {
      "cell_type": "code",
      "metadata": {
        "id": "knvVjLC9AFhu",
        "colab_type": "code",
        "colab": {}
      },
      "source": [
        "def viendo_imagenes(i):\n",
        "\n",
        "  pruebita= encoder.predict(np.array([x_test[i]]))\n",
        "  pruebita2= decoder.predict(pruebita)\n",
        "\n",
        "  return tf.keras.preprocessing.image.array_to_img(pruebita2.reshape(64,64,3) )"
      ],
      "execution_count": 0,
      "outputs": []
    },
    {
      "cell_type": "code",
      "metadata": {
        "id": "O0ELZcoMHQ27",
        "colab_type": "code",
        "outputId": "d4f0ab24-6115-4966-f99a-f4b4849b876f",
        "colab": {
          "base_uri": "https://localhost:8080/",
          "height": 80
        }
      },
      "source": [
        "viendo_imagenes(2000)"
      ],
      "execution_count": 24,
      "outputs": [
        {
          "output_type": "execute_result",
          "data": {
            "image/png": "[encoded data removed]",
            "text/plain": [
              "<PIL.Image.Image image mode=RGB size=64x64 at 0x7F8234D21F28>"
            ]
          },
          "metadata": {
            "tags": []
          },
          "execution_count": 24
        }
      ]
    },
    {
      "cell_type": "code",
      "metadata": {
        "id": "s0dDajHspJvZ",
        "colab_type": "code",
        "outputId": "4005c581-69cc-43b7-9e30-605884efbaa7",
        "colab": {
          "base_uri": "https://localhost:8080/",
          "height": 32
        }
      },
      "source": [
        "from keras.utils.vis_utils import plot_model"
      ],
      "execution_count": 0,
      "outputs": [
        {
          "output_type": "stream",
          "text": [
            "Using TensorFlow backend.\n"
          ],
          "name": "stderr"
        }
      ]
    },
    {
      "cell_type": "code",
      "metadata": {
        "id": "6TmR-3jeMebJ",
        "colab_type": "code",
        "outputId": "be3d890c-c6c0-4dce-8dbf-edbb2dfacf6a",
        "colab": {
          "base_uri": "https://localhost:8080/",
          "height": 294
        }
      },
      "source": [
        "# Plot loss\n",
        "plt.title('Loss')\n",
        "plt.plot(hist.history['loss'], label='Training', linewidth=2)\n",
        "plt.plot(hist.history['val_loss'], label='Validation', linewidth=2)\n",
        "plt.legend()\n",
        "plt.xlabel('Epoch')\n",
        "plt.ylabel('Loss')\n",
        "plt.grid(True)\n",
        "plt.show()"
      ],
      "execution_count": 25,
      "outputs": [
        {
          "output_type": "display_data",
          "data": {
            "image/png": "[encoded data removed]",
            "text/plain": [
              "<Figure size 432x288 with 1 Axes>"
            ]
          },
          "metadata": {
            "tags": [],
            "needs_background": "light"
          }
        }
      ]
    },
    {
      "cell_type": "code",
      "metadata": {
        "id": "lw049_AcMehd",
        "colab_type": "code",
        "outputId": "ba517df4-3707-413b-b127-556410c1daad",
        "colab": {
          "base_uri": "https://localhost:8080/",
          "height": 294
        }
      },
      "source": [
        "plt.plot(hist.history['accuracy'])\n",
        "plt.plot(hist.history['val_accuracy'])\n",
        "plt.title('model accuracy')\n",
        "plt.ylabel('accuracy')\n",
        "plt.xlabel('epoch')\n",
        "plt.legend(['train', 'test'], loc='upper left')\n",
        "plt.show()"
      ],
      "execution_count": 26,
      "outputs": [
        {
          "output_type": "display_data",
          "data": {
            "image/png": "[encoded data removed]",
            "text/plain": [
              "<Figure size 432x288 with 1 Axes>"
            ]
          },
          "metadata": {
            "tags": [],
            "needs_background": "light"
          }
        }
      ]
    },
    {
      "cell_type": "code",
      "metadata": {
        "id": "6dO8y_C6Mem8",
        "colab_type": "code",
        "colab": {}
      },
      "source": [
        ""
      ],
      "execution_count": 0,
      "outputs": []
    },
    {
      "cell_type": "code",
      "metadata": {
        "id": "VgTXAcd-Mesv",
        "colab_type": "code",
        "colab": {}
      },
      "source": [
        ""
      ],
      "execution_count": 0,
      "outputs": []
    },
    {
      "cell_type": "code",
      "metadata": {
        "id": "dUiRBPMqHXjt",
        "colab_type": "code",
        "colab": {}
      },
      "source": [
        "# Saving\n",
        "decoder.save('decorder_3a.h5')\n",
        "encoder.save('encorder_3a.h5')\n",
        "vae.save('vae_3a.h5')  # creates a HDF5 file 'my_model.h5'"
      ],
      "execution_count": 0,
      "outputs": []
    },
    {
      "cell_type": "code",
      "metadata": {
        "id": "kUxahbItT83J",
        "colab_type": "code",
        "colab": {}
      },
      "source": [
        "del decoder\n",
        "del encoder \n",
        "del vae"
      ],
      "execution_count": 0,
      "outputs": []
    },
    {
      "cell_type": "code",
      "metadata": {
        "id": "E1gJBBbn2N23",
        "colab_type": "code",
        "colab": {}
      },
      "source": [
        ""
      ],
      "execution_count": 0,
      "outputs": []
    },
    {
      "cell_type": "code",
      "metadata": {
        "id": "li9BjmHa2N6m",
        "colab_type": "code",
        "colab": {}
      },
      "source": [
        ""
      ],
      "execution_count": 0,
      "outputs": []
    },
    {
      "cell_type": "code",
      "metadata": {
        "id": "OOMKbOTN2OR2",
        "colab_type": "code",
        "outputId": "d3db9f55-4ce4-4379-eb8c-7c82dc585ba1",
        "colab": {
          "base_uri": "https://localhost:8080/",
          "height": 32
        }
      },
      "source": [
        "hist.params"
      ],
      "execution_count": 0,
      "outputs": [
        {
          "output_type": "execute_result",
          "data": {
            "text/plain": [
              "{'epochs': 10, 'steps': 32364, 'verbose': 1}"
            ]
          },
          "metadata": {
            "tags": []
          },
          "execution_count": 41
        }
      ]
    },
    {
      "cell_type": "code",
      "metadata": {
        "id": "jVYBbCgl2OL1",
        "colab_type": "code",
        "colab": {}
      },
      "source": [
        ""
      ],
      "execution_count": 0,
      "outputs": []
    },
    {
      "cell_type": "code",
      "metadata": {
        "id": "5lhKQA_F2OKe",
        "colab_type": "code",
        "colab": {}
      },
      "source": [
        ""
      ],
      "execution_count": 0,
      "outputs": []
    },
    {
      "cell_type": "code",
      "metadata": {
        "id": "MRdNX18x2OEw",
        "colab_type": "code",
        "colab": {}
      },
      "source": [
        ""
      ],
      "execution_count": 0,
      "outputs": []
    },
    {
      "cell_type": "code",
      "metadata": {
        "id": "xfAAnx-A2ODP",
        "colab_type": "code",
        "colab": {}
      },
      "source": [
        ""
      ],
      "execution_count": 0,
      "outputs": []
    },
    {
      "cell_type": "code",
      "metadata": {
        "id": "FOgd7B402N5X",
        "colab_type": "code",
        "colab": {}
      },
      "source": [
        ""
      ],
      "execution_count": 0,
      "outputs": []
    }
  ]
}