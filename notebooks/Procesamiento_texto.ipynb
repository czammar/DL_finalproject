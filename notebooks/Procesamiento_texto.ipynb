{
 "cells": [
  {
   "cell_type": "code",
   "execution_count": 98,
   "metadata": {},
   "outputs": [],
   "source": [
    "import os, pandas as pd\n",
    "import tensorflow as tf\n",
    "import numpy as np\n",
    "import os\n",
    "from matplotlib import pyplot as plt\n",
    "import random\n",
    "import cv2"
   ]
  },
  {
   "cell_type": "code",
   "execution_count": 99,
   "metadata": {},
   "outputs": [],
   "source": [
    "train_images_list = os.listdir('./github/DL_project/data/Normalized_images/')"
   ]
  },
  {
   "cell_type": "code",
   "execution_count": 100,
   "metadata": {},
   "outputs": [
    {
     "data": {
      "text/plain": [
       "40455"
      ]
     },
     "execution_count": 100,
     "metadata": {},
     "output_type": "execute_result"
    }
   ],
   "source": [
    "len(train_images_list)"
   ]
  },
  {
   "cell_type": "code",
   "execution_count": 101,
   "metadata": {},
   "outputs": [],
   "source": [
    "sample_size = 200 #len(train_images_list)#\n",
    "train_images_list = train_images_list[:sample_size]"
   ]
  },
  {
   "cell_type": "code",
   "execution_count": null,
   "metadata": {},
   "outputs": [],
   "source": []
  },
  {
   "cell_type": "code",
   "execution_count": 102,
   "metadata": {},
   "outputs": [
    {
     "data": {
      "text/plain": [
       "'A flock of birds disturbed and in flight in front of a wall that has a mural of three women and a man .'"
      ]
     },
     "execution_count": 102,
     "metadata": {},
     "output_type": "execute_result"
    }
   ],
   "source": [
    "train_captions['Text'][20270]"
   ]
  },
  {
   "cell_type": "code",
   "execution_count": 103,
   "metadata": {},
   "outputs": [
    {
     "data": {
      "text/plain": [
       "200"
      ]
     },
     "execution_count": 103,
     "metadata": {},
     "output_type": "execute_result"
    }
   ],
   "source": [
    "len(train_images_list)"
   ]
  },
  {
   "cell_type": "code",
   "execution_count": 104,
   "metadata": {},
   "outputs": [],
   "source": [
    "size = (256, 256)\n",
    "num_channels = 3\n",
    "train = np.array([None] * sample_size)\n",
    "real_images = np.array([None] * sample_size)"
   ]
  },
  {
   "cell_type": "code",
   "execution_count": 105,
   "metadata": {},
   "outputs": [
    {
     "data": {
      "text/plain": [
       "(200,)"
      ]
     },
     "execution_count": 105,
     "metadata": {},
     "output_type": "execute_result"
    }
   ],
   "source": [
    "train.shape"
   ]
  },
  {
   "cell_type": "code",
   "execution_count": 106,
   "metadata": {},
   "outputs": [
    {
     "data": {
      "text/plain": [
       "(200,)"
      ]
     },
     "execution_count": 106,
     "metadata": {},
     "output_type": "execute_result"
    }
   ],
   "source": [
    "real_images.shape"
   ]
  },
  {
   "cell_type": "code",
   "execution_count": 107,
   "metadata": {},
   "outputs": [],
   "source": [
    "j = 0\n",
    "for i in train_images_list:\n",
    "    real_images[j] = np.array(plt.imread('./github/DL_project/data/Normalized_images/' + i))\n",
    "    train[j] = np.array(plt.imread('./github/DL_project/data/Normalized_images/' + i))\n",
    "    j += 1"
   ]
  },
  {
   "cell_type": "code",
   "execution_count": 87,
   "metadata": {},
   "outputs": [],
   "source": [
    "j = 0\n",
    "for i in train:\n",
    "    train[j] = cv2.resize(i, size)\n",
    "    train[j] = train[j].reshape(1, size[0], size[1], num_channels)\n",
    "    j += 1"
   ]
  },
  {
   "cell_type": "code",
   "execution_count": 108,
   "metadata": {},
   "outputs": [],
   "source": [
    "train = np.vstack(train[:]/255.0)"
   ]
  },
  {
   "cell_type": "code",
   "execution_count": 110,
   "metadata": {},
   "outputs": [
    {
     "data": {
      "text/plain": [
       "array([[0.        , 0.        , 0.        ],\n",
       "       [0.        , 0.        , 0.        ],\n",
       "       [0.        , 0.        , 0.        ],\n",
       "       [0.        , 0.        , 0.        ],\n",
       "       [0.        , 0.        , 0.        ],\n",
       "       [0.        , 0.        , 0.        ],\n",
       "       [0.        , 0.        , 0.        ],\n",
       "       [0.        , 0.        , 0.        ],\n",
       "       [0.        , 0.        , 0.        ],\n",
       "       [0.        , 0.        , 0.        ],\n",
       "       [0.        , 0.        , 0.        ],\n",
       "       [0.        , 0.        , 0.        ],\n",
       "       [0.        , 0.        , 0.        ],\n",
       "       [0.        , 0.        , 0.        ],\n",
       "       [0.        , 0.        , 0.        ],\n",
       "       [0.        , 0.        , 0.        ],\n",
       "       [0.        , 0.        , 0.        ],\n",
       "       [0.00392157, 0.        , 0.        ],\n",
       "       [0.01176471, 0.        , 0.00784314],\n",
       "       [0.01568627, 0.        , 0.01568627],\n",
       "       [0.02352941, 0.        , 0.01568627],\n",
       "       [0.01176471, 0.        , 0.01960784],\n",
       "       [0.        , 0.        , 0.01960784],\n",
       "       [0.        , 0.01176471, 0.01960784],\n",
       "       [0.53333333, 0.61176471, 0.60392157],\n",
       "       [0.53333333, 0.65098039, 0.61960784],\n",
       "       [0.52156863, 0.6627451 , 0.60784314],\n",
       "       [0.49803922, 0.65098039, 0.58039216],\n",
       "       [0.49411765, 0.64705882, 0.56470588],\n",
       "       [0.51372549, 0.6627451 , 0.56470588],\n",
       "       [0.52941176, 0.6627451 , 0.56470588],\n",
       "       [0.5254902 , 0.65098039, 0.55686275],\n",
       "       [0.51764706, 0.63921569, 0.61568627],\n",
       "       [0.50980392, 0.63137255, 0.6       ],\n",
       "       [0.52156863, 0.63921569, 0.59215686],\n",
       "       [0.53333333, 0.64313725, 0.58431373],\n",
       "       [0.55686275, 0.65490196, 0.57254902],\n",
       "       [0.55686275, 0.65098039, 0.54901961],\n",
       "       [0.54117647, 0.63529412, 0.50980392],\n",
       "       [0.54901961, 0.64313725, 0.50196078],\n",
       "       [0.4       , 0.49803922, 0.34509804],\n",
       "       [0.52941176, 0.62745098, 0.47058824],\n",
       "       [0.49411765, 0.6       , 0.43921569],\n",
       "       [0.55686275, 0.66666667, 0.50980392],\n",
       "       [0.58823529, 0.71372549, 0.56078431],\n",
       "       [0.53333333, 0.66666667, 0.52156863],\n",
       "       [0.46666667, 0.60784314, 0.46666667],\n",
       "       [0.21960784, 0.35686275, 0.22745098],\n",
       "       [0.25882353, 0.39215686, 0.19215686],\n",
       "       [0.54901961, 0.68627451, 0.4745098 ],\n",
       "       [0.38039216, 0.51764706, 0.29803922],\n",
       "       [0.24705882, 0.38823529, 0.14901961],\n",
       "       [0.15294118, 0.29019608, 0.03921569],\n",
       "       [0.11372549, 0.25098039, 0.        ],\n",
       "       [0.0745098 , 0.20392157, 0.        ],\n",
       "       [0.05098039, 0.18431373, 0.        ],\n",
       "       [0.10980392, 0.23529412, 0.        ],\n",
       "       [0.2       , 0.3254902 , 0.03921569],\n",
       "       [0.21568627, 0.33333333, 0.05098039],\n",
       "       [0.1372549 , 0.25490196, 0.        ],\n",
       "       [0.19607843, 0.30196078, 0.03921569],\n",
       "       [0.22352941, 0.3254902 , 0.07843137],\n",
       "       [0.18431373, 0.28627451, 0.04705882],\n",
       "       [0.08627451, 0.18823529, 0.        ],\n",
       "       [0.14117647, 0.34117647, 0.        ],\n",
       "       [0.17254902, 0.36078431, 0.        ],\n",
       "       [0.24313725, 0.41960784, 0.04705882],\n",
       "       [0.17647059, 0.34509804, 0.        ],\n",
       "       [0.14509804, 0.29019608, 0.        ],\n",
       "       [0.16078431, 0.28235294, 0.00784314],\n",
       "       [0.12941176, 0.24313725, 0.        ],\n",
       "       [0.22352941, 0.31764706, 0.09019608],\n",
       "       [0.45882353, 0.54117647, 0.32156863],\n",
       "       [0.31372549, 0.38823529, 0.17254902],\n",
       "       [0.17254902, 0.24705882, 0.02745098],\n",
       "       [0.20392157, 0.2745098 , 0.03921569],\n",
       "       [0.21960784, 0.29411765, 0.04313725],\n",
       "       [0.23137255, 0.31372549, 0.04313725],\n",
       "       [0.21960784, 0.30588235, 0.01960784],\n",
       "       [0.25490196, 0.34117647, 0.04705882],\n",
       "       [0.18823529, 0.30980392, 0.03529412],\n",
       "       [0.17254902, 0.29411765, 0.01960784],\n",
       "       [0.17647059, 0.30196078, 0.01568627],\n",
       "       [0.21568627, 0.34117647, 0.04705882],\n",
       "       [0.25490196, 0.37647059, 0.07843137],\n",
       "       [0.26666667, 0.38823529, 0.0745098 ],\n",
       "       [0.2745098 , 0.38823529, 0.06666667],\n",
       "       [0.2745098 , 0.38823529, 0.05882353],\n",
       "       [0.27843137, 0.38823529, 0.05882353],\n",
       "       [0.30196078, 0.41176471, 0.07843137],\n",
       "       [0.19215686, 0.29019608, 0.        ],\n",
       "       [0.23529412, 0.33333333, 0.00784314],\n",
       "       [0.25098039, 0.34117647, 0.01960784],\n",
       "       [0.24313725, 0.33333333, 0.01176471],\n",
       "       [0.25490196, 0.34509804, 0.03137255],\n",
       "       [0.32156863, 0.41176471, 0.09803922],\n",
       "       [0.23529412, 0.42745098, 0.        ],\n",
       "       [0.28235294, 0.46666667, 0.01960784],\n",
       "       [0.28627451, 0.45098039, 0.01176471],\n",
       "       [0.36470588, 0.50588235, 0.08235294],\n",
       "       [0.23921569, 0.34901961, 0.        ],\n",
       "       [0.22352941, 0.30588235, 0.        ],\n",
       "       [0.30588235, 0.35686275, 0.03529412],\n",
       "       [0.41176471, 0.43921569, 0.16470588],\n",
       "       [0.37254902, 0.38823529, 0.14901961],\n",
       "       [0.19215686, 0.19215686, 0.        ],\n",
       "       [0.21568627, 0.21568627, 0.01176471],\n",
       "       [0.13333333, 0.14509804, 0.        ],\n",
       "       [0.30588235, 0.32941176, 0.08627451],\n",
       "       [0.30196078, 0.34901961, 0.06666667],\n",
       "       [0.33333333, 0.38823529, 0.07843137],\n",
       "       [0.33333333, 0.39215686, 0.06666667],\n",
       "       [0.27843137, 0.37647059, 0.        ],\n",
       "       [0.28235294, 0.37647059, 0.        ],\n",
       "       [0.2627451 , 0.35686275, 0.01176471],\n",
       "       [0.21176471, 0.30196078, 0.02745098],\n",
       "       [0.15294118, 0.24705882, 0.00392157],\n",
       "       [0.17647059, 0.2745098 , 0.01568627],\n",
       "       [0.30980392, 0.39215686, 0.09019608],\n",
       "       [0.45098039, 0.50980392, 0.19215686],\n",
       "       [0.3372549 , 0.36862745, 0.08235294],\n",
       "       [0.29803922, 0.29019608, 0.09019608],\n",
       "       [0.14901961, 0.12156863, 0.01176471],\n",
       "       [0.04705882, 0.00784314, 0.        ],\n",
       "       [0.14509804, 0.11372549, 0.07058824],\n",
       "       [0.07843137, 0.07058824, 0.        ],\n",
       "       [0.12156863, 0.15294118, 0.        ],\n",
       "       [0.19607843, 0.23921569, 0.00392157],\n",
       "       [0.36078431, 0.25490196, 0.07843137],\n",
       "       [0.42745098, 0.3372549 , 0.13333333],\n",
       "       [0.5372549 , 0.45882353, 0.21176471],\n",
       "       [0.59607843, 0.53333333, 0.23137255],\n",
       "       [0.49411765, 0.45882353, 0.10196078],\n",
       "       [0.36862745, 0.36078431, 0.        ],\n",
       "       [0.35686275, 0.36862745, 0.        ],\n",
       "       [0.36470588, 0.39607843, 0.        ],\n",
       "       [0.31764706, 0.36470588, 0.        ],\n",
       "       [0.34117647, 0.4       , 0.04313725],\n",
       "       [0.35294118, 0.42352941, 0.09411765],\n",
       "       [0.25098039, 0.33333333, 0.02352941],\n",
       "       [0.34117647, 0.42745098, 0.13333333],\n",
       "       [0.36470588, 0.45882353, 0.16078431],\n",
       "       [0.44313725, 0.54509804, 0.25490196],\n",
       "       [0.32941176, 0.43529412, 0.13333333],\n",
       "       [0.16470588, 0.21176471, 0.03137255],\n",
       "       [0.17254902, 0.22352941, 0.01568627],\n",
       "       [0.18431373, 0.25882353, 0.        ],\n",
       "       [0.18039216, 0.27058824, 0.        ],\n",
       "       [0.24705882, 0.3372549 , 0.        ],\n",
       "       [0.30980392, 0.39215686, 0.03529412],\n",
       "       [0.30980392, 0.36078431, 0.01568627],\n",
       "       [0.35686275, 0.36862745, 0.06666667],\n",
       "       [0.2745098 , 0.22745098, 0.        ],\n",
       "       [0.2745098 , 0.18823529, 0.00392157],\n",
       "       [0.3372549 , 0.20784314, 0.07058824],\n",
       "       [0.33333333, 0.19215686, 0.06666667],\n",
       "       [0.2745098 , 0.13333333, 0.        ],\n",
       "       [0.32156863, 0.18823529, 0.03921569],\n",
       "       [0.34509804, 0.22352941, 0.05098039],\n",
       "       [0.24313725, 0.13333333, 0.        ],\n",
       "       [0.20784314, 0.12941176, 0.03137255],\n",
       "       [0.23137255, 0.16078431, 0.06666667],\n",
       "       [0.21568627, 0.15686275, 0.06666667],\n",
       "       [0.14901961, 0.11764706, 0.03529412],\n",
       "       [0.51372549, 0.49411765, 0.41960784],\n",
       "       [0.38431373, 0.38823529, 0.3254902 ],\n",
       "       [0.37647059, 0.39215686, 0.3372549 ],\n",
       "       [0.4745098 , 0.49803922, 0.45098039],\n",
       "       [0.55294118, 0.57647059, 0.52941176],\n",
       "       [0.78039216, 0.79215686, 0.74901961],\n",
       "       [0.51764706, 0.51764706, 0.47058824],\n",
       "       [0.07058824, 0.05490196, 0.00784314],\n",
       "       [0.14117647, 0.10588235, 0.04705882],\n",
       "       [0.1372549 , 0.08627451, 0.02352941],\n",
       "       [0.14901961, 0.08235294, 0.01960784],\n",
       "       [0.16470588, 0.09019608, 0.03137255],\n",
       "       [0.21176471, 0.12941176, 0.10980392],\n",
       "       [0.21568627, 0.14509804, 0.09019608],\n",
       "       [0.30588235, 0.25098039, 0.14509804],\n",
       "       [0.29803922, 0.2627451 , 0.09411765],\n",
       "       [0.28235294, 0.2627451 , 0.04705882],\n",
       "       [0.30980392, 0.30196078, 0.07843137],\n",
       "       [0.23921569, 0.23137255, 0.03137255],\n",
       "       [0.17254902, 0.16470588, 0.01176471],\n",
       "       [0.14509804, 0.12941176, 0.02352941],\n",
       "       [0.14901961, 0.1372549 , 0.07843137],\n",
       "       [0.14509804, 0.12941176, 0.08627451],\n",
       "       [0.17254902, 0.14901961, 0.09411765],\n",
       "       [0.20784314, 0.19215686, 0.09411765],\n",
       "       [0.2627451 , 0.25098039, 0.09019608],\n",
       "       [0.49411765, 0.49019608, 0.27843137],\n",
       "       [0.81176471, 0.81176471, 0.56078431],\n",
       "       [0.44313725, 0.42745098, 0.32156863],\n",
       "       [0.70980392, 0.68627451, 0.58431373],\n",
       "       [1.        , 0.99215686, 0.89019608],\n",
       "       [1.        , 0.98039216, 0.87843137],\n",
       "       [0.91764706, 0.85882353, 0.74509804],\n",
       "       [0.90588235, 0.82745098, 0.69803922],\n",
       "       [0.85490196, 0.77254902, 0.60392157],\n",
       "       [0.25098039, 0.16862745, 0.        ],\n",
       "       [0.35686275, 0.2745098 , 0.01176471],\n",
       "       [0.41960784, 0.35294118, 0.04705882],\n",
       "       [0.45882353, 0.4       , 0.06666667],\n",
       "       [0.34901961, 0.31372549, 0.        ],\n",
       "       [0.29803922, 0.27058824, 0.        ],\n",
       "       [0.49019608, 0.4745098 , 0.1254902 ],\n",
       "       [0.3372549 , 0.32941176, 0.        ],\n",
       "       [0.73333333, 0.72941176, 0.40392157],\n",
       "       [0.49019608, 0.41176471, 0.2745098 ],\n",
       "       [0.65098039, 0.57254902, 0.44313725],\n",
       "       [0.96078431, 0.89803922, 0.76862745],\n",
       "       [0.68235294, 0.62352941, 0.50980392],\n",
       "       [0.89411765, 0.84705882, 0.74509804],\n",
       "       [0.91372549, 0.87058824, 0.78431373],\n",
       "       [0.87058824, 0.83921569, 0.76470588],\n",
       "       [0.61960784, 0.59215686, 0.52941176],\n",
       "       [0.74901961, 0.7254902 , 0.67058824],\n",
       "       [0.76470588, 0.74117647, 0.69411765],\n",
       "       [0.7372549 , 0.70980392, 0.67058824],\n",
       "       [0.9372549 , 0.90196078, 0.8745098 ],\n",
       "       [0.94509804, 0.90196078, 0.87843137],\n",
       "       [0.72156863, 0.67058824, 0.64705882],\n",
       "       [0.91372549, 0.8627451 , 0.83137255],\n",
       "       [0.87843137, 0.81960784, 0.79215686],\n",
       "       [0.18823529, 0.1372549 , 0.10588235],\n",
       "       [0.21568627, 0.16078431, 0.11764706],\n",
       "       [0.10980392, 0.04705882, 0.        ],\n",
       "       [0.27058824, 0.20784314, 0.11764706],\n",
       "       [0.18431373, 0.1254902 , 0.01176471],\n",
       "       [0.22352941, 0.17254902, 0.04705882],\n",
       "       [0.22745098, 0.20392157, 0.07843137],\n",
       "       [0.23137255, 0.22745098, 0.10980392],\n",
       "       [0.        , 0.01568627, 0.        ],\n",
       "       [0.        , 0.01176471, 0.        ],\n",
       "       [0.        , 0.01176471, 0.        ],\n",
       "       [0.        , 0.00392157, 0.        ],\n",
       "       [0.        , 0.        , 0.00784314],\n",
       "       [0.01568627, 0.        , 0.00784314],\n",
       "       [0.03137255, 0.        , 0.00784314],\n",
       "       [0.04313725, 0.        , 0.00784314],\n",
       "       [0.        , 0.        , 0.        ],\n",
       "       [0.        , 0.        , 0.        ],\n",
       "       [0.        , 0.        , 0.        ],\n",
       "       [0.        , 0.        , 0.        ],\n",
       "       [0.        , 0.        , 0.        ],\n",
       "       [0.        , 0.        , 0.        ],\n",
       "       [0.        , 0.        , 0.        ],\n",
       "       [0.        , 0.        , 0.        ],\n",
       "       [0.        , 0.        , 0.        ],\n",
       "       [0.        , 0.        , 0.        ],\n",
       "       [0.        , 0.        , 0.        ],\n",
       "       [0.        , 0.        , 0.        ],\n",
       "       [0.        , 0.        , 0.        ],\n",
       "       [0.        , 0.        , 0.        ],\n",
       "       [0.        , 0.        , 0.        ],\n",
       "       [0.        , 0.        , 0.        ]])"
      ]
     },
     "execution_count": 110,
     "metadata": {},
     "output_type": "execute_result"
    }
   ],
   "source": [
    "train[1]"
   ]
  },
  {
   "cell_type": "code",
   "execution_count": 111,
   "metadata": {},
   "outputs": [
    {
     "data": {
      "image/png": "[encoded data removed]",
      "text/plain": [
       "<Figure size 432x288 with 1 Axes>"
      ]
     },
     "metadata": {
      "needs_background": "light"
     },
     "output_type": "display_data"
    }
   ],
   "source": [
    "plt.imshow(np.squeeze(train[0]))\n",
    "plt.show()"
   ]
  },
  {
   "cell_type": "code",
   "execution_count": 65,
   "metadata": {},
   "outputs": [
    {
     "data": {
      "text/plain": [
       "'A man lays on the bench to which a white dog is also tied .'"
      ]
     },
     "execution_count": 65,
     "metadata": {},
     "output_type": "execute_result"
    }
   ],
   "source": [
    "train_captions.Text[16]"
   ]
  },
  {
   "cell_type": "code",
   "execution_count": 9,
   "metadata": {},
   "outputs": [],
   "source": [
    "train_captions = pd.read_csv('./github/DL_project/data/Flickr8k_clean.token.csv', delimiter=',')"
   ]
  },
  {
   "cell_type": "code",
   "execution_count": 66,
   "metadata": {},
   "outputs": [
    {
     "data": {
      "text/html": [
       "<div>\n",
       "<style scoped>\n",
       "    .dataframe tbody tr th:only-of-type {\n",
       "        vertical-align: middle;\n",
       "    }\n",
       "\n",
       "    .dataframe tbody tr th {\n",
       "        vertical-align: top;\n",
       "    }\n",
       "\n",
       "    .dataframe thead th {\n",
       "        text-align: right;\n",
       "    }\n",
       "</style>\n",
       "<table border=\"1\" class=\"dataframe\">\n",
       "  <thead>\n",
       "    <tr style=\"text-align: right;\">\n",
       "      <th></th>\n",
       "      <th>ID</th>\n",
       "      <th>Text</th>\n",
       "      <th>ID_clean</th>\n",
       "      <th>Text_Clean</th>\n",
       "    </tr>\n",
       "  </thead>\n",
       "  <tbody>\n",
       "    <tr>\n",
       "      <th>0</th>\n",
       "      <td>1000268201_693b08cb0e.jpg#0</td>\n",
       "      <td>A child in a pink dress is climbing up a set o...</td>\n",
       "      <td>1000268201_693b08cb0e_0.jpg</td>\n",
       "      <td>child pink dress climbing set stairs entry way</td>\n",
       "    </tr>\n",
       "    <tr>\n",
       "      <th>1</th>\n",
       "      <td>1000268201_693b08cb0e.jpg#1</td>\n",
       "      <td>A girl going into a wooden building .</td>\n",
       "      <td>1000268201_693b08cb0e_1.jpg</td>\n",
       "      <td>girl going wooden building</td>\n",
       "    </tr>\n",
       "    <tr>\n",
       "      <th>2</th>\n",
       "      <td>1000268201_693b08cb0e.jpg#2</td>\n",
       "      <td>A little girl climbing into a wooden playhouse .</td>\n",
       "      <td>1000268201_693b08cb0e_2.jpg</td>\n",
       "      <td>little girl climbing wooden playhouse</td>\n",
       "    </tr>\n",
       "    <tr>\n",
       "      <th>3</th>\n",
       "      <td>1000268201_693b08cb0e.jpg#3</td>\n",
       "      <td>A little girl climbing the stairs to her playh...</td>\n",
       "      <td>1000268201_693b08cb0e_3.jpg</td>\n",
       "      <td>little girl climbing stairs playhouse</td>\n",
       "    </tr>\n",
       "    <tr>\n",
       "      <th>4</th>\n",
       "      <td>1000268201_693b08cb0e.jpg#4</td>\n",
       "      <td>A little girl in a pink dress going into a woo...</td>\n",
       "      <td>1000268201_693b08cb0e_4.jpg</td>\n",
       "      <td>little girl pink dress going wooden cabin</td>\n",
       "    </tr>\n",
       "    <tr>\n",
       "      <th>...</th>\n",
       "      <td>...</td>\n",
       "      <td>...</td>\n",
       "      <td>...</td>\n",
       "      <td>...</td>\n",
       "    </tr>\n",
       "    <tr>\n",
       "      <th>40450</th>\n",
       "      <td>997722733_0cb5439472.jpg#0</td>\n",
       "      <td>A man in a pink shirt climbs a rock face</td>\n",
       "      <td>997722733_0cb5439472_0.jpg</td>\n",
       "      <td>man pink shirt climbs rock face</td>\n",
       "    </tr>\n",
       "    <tr>\n",
       "      <th>40451</th>\n",
       "      <td>997722733_0cb5439472.jpg#1</td>\n",
       "      <td>A man is rock climbing high in the air .</td>\n",
       "      <td>997722733_0cb5439472_1.jpg</td>\n",
       "      <td>man rock climbing high air</td>\n",
       "    </tr>\n",
       "    <tr>\n",
       "      <th>40452</th>\n",
       "      <td>997722733_0cb5439472.jpg#2</td>\n",
       "      <td>A person in a red shirt climbing up a rock fac...</td>\n",
       "      <td>997722733_0cb5439472_2.jpg</td>\n",
       "      <td>person red shirt climbing rock face covered as...</td>\n",
       "    </tr>\n",
       "    <tr>\n",
       "      <th>40453</th>\n",
       "      <td>997722733_0cb5439472.jpg#3</td>\n",
       "      <td>A rock climber in a red shirt .</td>\n",
       "      <td>997722733_0cb5439472_3.jpg</td>\n",
       "      <td>rock climber red shirt</td>\n",
       "    </tr>\n",
       "    <tr>\n",
       "      <th>40454</th>\n",
       "      <td>997722733_0cb5439472.jpg#4</td>\n",
       "      <td>A rock climber practices on a rock climbing wa...</td>\n",
       "      <td>997722733_0cb5439472_4.jpg</td>\n",
       "      <td>rock climber practices rock climbing wall</td>\n",
       "    </tr>\n",
       "  </tbody>\n",
       "</table>\n",
       "<p>40455 rows × 4 columns</p>\n",
       "</div>"
      ],
      "text/plain": [
       "                                ID  \\\n",
       "0      1000268201_693b08cb0e.jpg#0   \n",
       "1      1000268201_693b08cb0e.jpg#1   \n",
       "2      1000268201_693b08cb0e.jpg#2   \n",
       "3      1000268201_693b08cb0e.jpg#3   \n",
       "4      1000268201_693b08cb0e.jpg#4   \n",
       "...                            ...   \n",
       "40450   997722733_0cb5439472.jpg#0   \n",
       "40451   997722733_0cb5439472.jpg#1   \n",
       "40452   997722733_0cb5439472.jpg#2   \n",
       "40453   997722733_0cb5439472.jpg#3   \n",
       "40454   997722733_0cb5439472.jpg#4   \n",
       "\n",
       "                                                    Text  \\\n",
       "0      A child in a pink dress is climbing up a set o...   \n",
       "1                  A girl going into a wooden building .   \n",
       "2       A little girl climbing into a wooden playhouse .   \n",
       "3      A little girl climbing the stairs to her playh...   \n",
       "4      A little girl in a pink dress going into a woo...   \n",
       "...                                                  ...   \n",
       "40450           A man in a pink shirt climbs a rock face   \n",
       "40451           A man is rock climbing high in the air .   \n",
       "40452  A person in a red shirt climbing up a rock fac...   \n",
       "40453                    A rock climber in a red shirt .   \n",
       "40454  A rock climber practices on a rock climbing wa...   \n",
       "\n",
       "                          ID_clean  \\\n",
       "0      1000268201_693b08cb0e_0.jpg   \n",
       "1      1000268201_693b08cb0e_1.jpg   \n",
       "2      1000268201_693b08cb0e_2.jpg   \n",
       "3      1000268201_693b08cb0e_3.jpg   \n",
       "4      1000268201_693b08cb0e_4.jpg   \n",
       "...                            ...   \n",
       "40450   997722733_0cb5439472_0.jpg   \n",
       "40451   997722733_0cb5439472_1.jpg   \n",
       "40452   997722733_0cb5439472_2.jpg   \n",
       "40453   997722733_0cb5439472_3.jpg   \n",
       "40454   997722733_0cb5439472_4.jpg   \n",
       "\n",
       "                                              Text_Clean  \n",
       "0         child pink dress climbing set stairs entry way  \n",
       "1                             girl going wooden building  \n",
       "2                  little girl climbing wooden playhouse  \n",
       "3                  little girl climbing stairs playhouse  \n",
       "4              little girl pink dress going wooden cabin  \n",
       "...                                                  ...  \n",
       "40450                    man pink shirt climbs rock face  \n",
       "40451                         man rock climbing high air  \n",
       "40452  person red shirt climbing rock face covered as...  \n",
       "40453                             rock climber red shirt  \n",
       "40454          rock climber practices rock climbing wall  \n",
       "\n",
       "[40455 rows x 4 columns]"
      ]
     },
     "execution_count": 66,
     "metadata": {},
     "output_type": "execute_result"
    }
   ],
   "source": [
    "train_captions"
   ]
  },
  {
   "cell_type": "code",
   "execution_count": null,
   "metadata": {},
   "outputs": [],
   "source": [
    "j=10\n",
    "\n",
    "def find_description_raw(j):\n",
    "    id_imagen = train_images_list[j]\n",
    "    indice = train_captions[train_captions['ID_clean'] == id_imagen ].index\n",
    "    return train_captions['Text'][indice]"
   ]
  },
  {
   "cell_type": "code",
   "execution_count": 11,
   "metadata": {},
   "outputs": [
    {
     "name": "stdout",
     "output_type": "stream",
     "text": [
      "{'its', 'both', 'whom', 'into', 'too', 'themselves', 'some', 'doesn', 'no', 'during', \"wouldn't\", \"don't\", 'theirs', 'should', 'itself', 'than', 'our', 'now', \"you're\", 'all', 'hasn', 'after', 'weren', 'myself', 'her', 'if', 'o', \"wasn't\", 'been', 'those', 'their', 'have', 'once', \"needn't\", 'while', 'which', 'when', \"haven't\", 'again', \"she's\", 'it', 'has', 'ain', 'mustn', 'be', 't', \"mightn't\", 'i', 'she', \"you'd\", 'above', 'shan', 'yours', \"doesn't\", 'wouldn', \"you've\", 'an', 'he', \"it's\", \"couldn't\", 'won', 'where', 'own', \"isn't\", 'because', 'they', \"mustn't\", \"should've\", 'wasn', 'to', 're', 'y', 'why', 'doing', 'ma', 'any', 'is', 'himself', 'off', 'mightn', 'are', \"aren't\", 'here', 'a', 'ourselves', \"that'll\", 'same', 'by', 'against', 'from', 'that', 'his', 'until', 'more', 'll', \"weren't\", 'herself', \"won't\", 'of', 'him', 'what', 'on', 'hers', 'before', 'most', 'down', 'don', 'nor', 'had', 'does', 'about', \"didn't\", 'further', 's', 'how', 'below', 'am', 'for', 'ours', 'through', 'did', 'as', 'needn', 'yourself', \"you'll\", 'and', \"shan't\", 'hadn', 'isn', 'such', 'each', 'out', 'between', 'who', 'your', 'yourselves', 'were', 'then', 'aren', 'up', 'only', 'other', 'under', 'can', 'do', 'at', 'these', 'the', 'was', 'with', \"shouldn't\", 'you', 'm', 'shouldn', 'there', 'this', 'couldn', 'will', 'but', \"hadn't\", 'didn', 'or', 'just', 've', 'in', 'over', 'very', 'me', 'my', 'we', 'few', 'so', 'd', 'them', 'being', 'not', 'having', \"hasn't\", 'haven'}\n"
     ]
    },
    {
     "name": "stderr",
     "output_type": "stream",
     "text": [
      "[nltk_data] Downloading package stopwords to /Users/cesar/nltk_data...\n",
      "[nltk_data]   Package stopwords is already up-to-date!\n"
     ]
    }
   ],
   "source": [
    "# Natural language toolkit, nos ayudara con preprocessing de los datos\n",
    "import nltk\n",
    "nltk.download('stopwords')\n",
    "\n",
    "# Carga un set de stopwords predefinidas\n",
    "from nltk.corpus import stopwords\n",
    "STOPWORDS = set(stopwords.words('english'))\n",
    "\n",
    "# Imprime el set\n",
    "print(STOPWORDS)"
   ]
  },
  {
   "cell_type": "code",
   "execution_count": 12,
   "metadata": {},
   "outputs": [],
   "source": [
    "import re\n",
    "def decontracted(phrase):\n",
    "  phrase = re.sub(r\"won't\", \"will not\", phrase)\n",
    "  phrase = re.sub(r\"can\\'t\", \"can not\", phrase)\n",
    "  phrase = re.sub(r\"n\\'t\", \" not\", phrase)\n",
    "  phrase = re.sub(r\"\\'re\", \" are\", phrase)\n",
    "  phrase = re.sub(r\"\\'s\", \" is\", phrase)\n",
    "  phrase = re.sub(r\"\\'d\", \" would\", phrase)\n",
    "  phrase = re.sub(r\"\\'ll\", \" will\", phrase)\n",
    "  phrase = re.sub(r\"\\'t\", \" not\", phrase)\n",
    "  phrase = re.sub(r\"\\'ve\", \" have\", phrase)\n",
    "  phrase = re.sub(r\"\\'m\", \" am\", phrase)\n",
    "  return phrase\n",
    "\n",
    "# Set adicional de stopwords, removeremos palabras tanto de este set como del que\n",
    "# viene definido en el nltk\n",
    "stopwords= set(['br', 'the', 'i', 'me', 'my', 'myself', 'we', 'our', 'ours', 'ourselves', 'you', \"you're\", \"you've\",\\\n",
    "            \"you'll\", \"you'd\", 'your', 'yours', 'yourself', 'yourselves', 'he', 'him', 'his', 'himself', \\\n",
    "            'she', \"she's\", 'her', 'hers', 'herself', 'it', \"it's\", 'its', 'itself', 'they', 'them', 'their',\\\n",
    "            'theirs', 'themselves', 'what', 'which', 'who', 'whom', 'this', 'that', \"that'll\", 'these', 'those', \\\n",
    "            'am', 'is', 'are', 'was', 'were', 'be', 'been', 'being', 'have', 'has', 'had', 'having', 'do', 'does', \\\n",
    "            'did', 'doing', 'a', 'an', 'the', 'and', 'but', 'if', 'or', 'because', 'as', 'until', 'while', 'of', \\\n",
    "            'at', 'by', 'for', 'with', 'about', 'against', 'between', 'into', 'through', 'during', 'before', 'after',\\\n",
    "            'above', 'below', 'to', 'from', 'up', 'down', 'in', 'out', 'on', 'off', 'over', 'under', 'again', 'further',\\\n",
    "            'then', 'once', 'here', 'there', 'when', 'where', 'why', 'how', 'all', 'any', 'both', 'each', 'few', 'more',\\\n",
    "            'most', 'other', 'some', 'such', 'only', 'own', 'same', 'so', 'than', 'too', 'very', \\\n",
    "            's', 't', 'can', 'will', 'just', 'don', \"don't\", 'should', \"should've\", 'now', 'd', 'll', 'm', 'o', 're', \\\n",
    "            've', 'y', 'ain', 'aren', \"aren't\", 'couldn', \"couldn't\", 'didn', \"didn't\", 'doesn', \"doesn't\", 'hadn',\\\n",
    "            \"hadn't\", 'hasn', \"hasn't\", 'haven', \"haven't\", 'isn', \"isn't\", 'ma', 'mightn', \"mightn't\", 'mustn',\\\n",
    "            \"mustn't\", 'needn', \"needn't\", 'shan', \"shan't\", 'shouldn', \"shouldn't\", 'wasn', \"wasn't\", 'weren', \"weren't\", \\\n",
    "            'won', \"won't\", 'wouldn', \"wouldn't\"])\n",
    "\n",
    "# Función auxiliar para remover stopwords y otras normalizaciones de texto\n",
    "# (Aqui puedes incluir el lematizador o stemming si gustas explorarlos)\n",
    "def remove_stopwords(dataframe):\n",
    "  SYNS = []\n",
    "  for sentance in dataframe:\n",
    "    sentance = re.sub(r\"http\\S+\", \"\", sentance)\n",
    "    sentance = decontracted(sentance)\n",
    "    sentance = re.sub(\"\\S*\\d\\S*\", \"\", sentance).strip()\n",
    "    sentance = re.sub('[^A-Za-z]+', ' ', sentance)\n",
    "    sentance = ' '.join(e.lower() for e in sentance.split() if e.lower() not in stopwords)\n",
    "    sentance = ' '.join(e.lower() for e in sentance.split() if e.lower() not in STOPWORDS)\n",
    "    SYNS.append(sentance.strip())\n",
    "  return SYNS"
   ]
  },
  {
   "cell_type": "code",
   "execution_count": 13,
   "metadata": {},
   "outputs": [],
   "source": [
    "train_captions['Text_Clean']=remove_stopwords(train_captions.Text)"
   ]
  },
  {
   "cell_type": "code",
   "execution_count": 14,
   "metadata": {},
   "outputs": [
    {
     "data": {
      "text/plain": [
       "0        child pink dress climbing set stairs entry way\n",
       "1                            girl going wooden building\n",
       "2                 little girl climbing wooden playhouse\n",
       "3                 little girl climbing stairs playhouse\n",
       "4             little girl pink dress going wooden cabin\n",
       "5                        black dog spotted dog fighting\n",
       "6                black dog tri colored dog playing road\n",
       "7        black dog white dog brown spots staring street\n",
       "8                two dogs different breeds looking road\n",
       "9                       two dogs pavement moving toward\n",
       "10    little girl covered paint sits front painted r...\n",
       "11      little girl sitting front large painted rainbow\n",
       "12    small girl grass plays fingerpaints front whit...\n",
       "13         girl pigtails sitting front rainbow painting\n",
       "14           young girl pigtails painting outside grass\n",
       "15                              man lays bench dog sits\n",
       "16                   man lays bench white dog also tied\n",
       "17    man sleeping bench outside white black dog sit...\n",
       "18                    shirtless man lies park bench dog\n",
       "19    man laying bench holding leash dog sitting ground\n",
       "20                    man orange hat starring something\n",
       "21                         man wears orange hat glasses\n",
       "22                 man gauges glasses wearing blitz hat\n",
       "23               man glasses wearing beer crocheted hat\n",
       "24          man pierced ears wearing glasses orange hat\n",
       "25                               child playing rope net\n",
       "26                      little girl climbing red roping\n",
       "27             little girl pink climbs rope bridge park\n",
       "28          small child grips onto red ropes playground\n",
       "29              small child climbs red ropes playground\n",
       "Name: Text_Clean, dtype: object"
      ]
     },
     "execution_count": 14,
     "metadata": {},
     "output_type": "execute_result"
    }
   ],
   "source": [
    "train_captions['Text_Clean'][:30]"
   ]
  },
  {
   "cell_type": "code",
   "execution_count": 15,
   "metadata": {},
   "outputs": [
    {
     "data": {
      "text/html": [
       "<div>\n",
       "<style scoped>\n",
       "    .dataframe tbody tr th:only-of-type {\n",
       "        vertical-align: middle;\n",
       "    }\n",
       "\n",
       "    .dataframe tbody tr th {\n",
       "        vertical-align: top;\n",
       "    }\n",
       "\n",
       "    .dataframe thead th {\n",
       "        text-align: right;\n",
       "    }\n",
       "</style>\n",
       "<table border=\"1\" class=\"dataframe\">\n",
       "  <thead>\n",
       "    <tr style=\"text-align: right;\">\n",
       "      <th></th>\n",
       "      <th>ID</th>\n",
       "      <th>Text</th>\n",
       "      <th>ID_clean</th>\n",
       "      <th>Text_Clean</th>\n",
       "    </tr>\n",
       "  </thead>\n",
       "  <tbody>\n",
       "    <tr>\n",
       "      <th>0</th>\n",
       "      <td>1000268201_693b08cb0e.jpg#0</td>\n",
       "      <td>A child in a pink dress is climbing up a set o...</td>\n",
       "      <td>1000268201_693b08cb0e_0.jpg</td>\n",
       "      <td>child pink dress climbing set stairs entry way</td>\n",
       "    </tr>\n",
       "    <tr>\n",
       "      <th>1</th>\n",
       "      <td>1000268201_693b08cb0e.jpg#1</td>\n",
       "      <td>A girl going into a wooden building .</td>\n",
       "      <td>1000268201_693b08cb0e_1.jpg</td>\n",
       "      <td>girl going wooden building</td>\n",
       "    </tr>\n",
       "    <tr>\n",
       "      <th>2</th>\n",
       "      <td>1000268201_693b08cb0e.jpg#2</td>\n",
       "      <td>A little girl climbing into a wooden playhouse .</td>\n",
       "      <td>1000268201_693b08cb0e_2.jpg</td>\n",
       "      <td>little girl climbing wooden playhouse</td>\n",
       "    </tr>\n",
       "    <tr>\n",
       "      <th>3</th>\n",
       "      <td>1000268201_693b08cb0e.jpg#3</td>\n",
       "      <td>A little girl climbing the stairs to her playh...</td>\n",
       "      <td>1000268201_693b08cb0e_3.jpg</td>\n",
       "      <td>little girl climbing stairs playhouse</td>\n",
       "    </tr>\n",
       "    <tr>\n",
       "      <th>4</th>\n",
       "      <td>1000268201_693b08cb0e.jpg#4</td>\n",
       "      <td>A little girl in a pink dress going into a woo...</td>\n",
       "      <td>1000268201_693b08cb0e_4.jpg</td>\n",
       "      <td>little girl pink dress going wooden cabin</td>\n",
       "    </tr>\n",
       "    <tr>\n",
       "      <th>...</th>\n",
       "      <td>...</td>\n",
       "      <td>...</td>\n",
       "      <td>...</td>\n",
       "      <td>...</td>\n",
       "    </tr>\n",
       "    <tr>\n",
       "      <th>40450</th>\n",
       "      <td>997722733_0cb5439472.jpg#0</td>\n",
       "      <td>A man in a pink shirt climbs a rock face</td>\n",
       "      <td>997722733_0cb5439472_0.jpg</td>\n",
       "      <td>man pink shirt climbs rock face</td>\n",
       "    </tr>\n",
       "    <tr>\n",
       "      <th>40451</th>\n",
       "      <td>997722733_0cb5439472.jpg#1</td>\n",
       "      <td>A man is rock climbing high in the air .</td>\n",
       "      <td>997722733_0cb5439472_1.jpg</td>\n",
       "      <td>man rock climbing high air</td>\n",
       "    </tr>\n",
       "    <tr>\n",
       "      <th>40452</th>\n",
       "      <td>997722733_0cb5439472.jpg#2</td>\n",
       "      <td>A person in a red shirt climbing up a rock fac...</td>\n",
       "      <td>997722733_0cb5439472_2.jpg</td>\n",
       "      <td>person red shirt climbing rock face covered as...</td>\n",
       "    </tr>\n",
       "    <tr>\n",
       "      <th>40453</th>\n",
       "      <td>997722733_0cb5439472.jpg#3</td>\n",
       "      <td>A rock climber in a red shirt .</td>\n",
       "      <td>997722733_0cb5439472_3.jpg</td>\n",
       "      <td>rock climber red shirt</td>\n",
       "    </tr>\n",
       "    <tr>\n",
       "      <th>40454</th>\n",
       "      <td>997722733_0cb5439472.jpg#4</td>\n",
       "      <td>A rock climber practices on a rock climbing wa...</td>\n",
       "      <td>997722733_0cb5439472_4.jpg</td>\n",
       "      <td>rock climber practices rock climbing wall</td>\n",
       "    </tr>\n",
       "  </tbody>\n",
       "</table>\n",
       "<p>40455 rows × 4 columns</p>\n",
       "</div>"
      ],
      "text/plain": [
       "                                ID  \\\n",
       "0      1000268201_693b08cb0e.jpg#0   \n",
       "1      1000268201_693b08cb0e.jpg#1   \n",
       "2      1000268201_693b08cb0e.jpg#2   \n",
       "3      1000268201_693b08cb0e.jpg#3   \n",
       "4      1000268201_693b08cb0e.jpg#4   \n",
       "...                            ...   \n",
       "40450   997722733_0cb5439472.jpg#0   \n",
       "40451   997722733_0cb5439472.jpg#1   \n",
       "40452   997722733_0cb5439472.jpg#2   \n",
       "40453   997722733_0cb5439472.jpg#3   \n",
       "40454   997722733_0cb5439472.jpg#4   \n",
       "\n",
       "                                                    Text  \\\n",
       "0      A child in a pink dress is climbing up a set o...   \n",
       "1                  A girl going into a wooden building .   \n",
       "2       A little girl climbing into a wooden playhouse .   \n",
       "3      A little girl climbing the stairs to her playh...   \n",
       "4      A little girl in a pink dress going into a woo...   \n",
       "...                                                  ...   \n",
       "40450           A man in a pink shirt climbs a rock face   \n",
       "40451           A man is rock climbing high in the air .   \n",
       "40452  A person in a red shirt climbing up a rock fac...   \n",
       "40453                    A rock climber in a red shirt .   \n",
       "40454  A rock climber practices on a rock climbing wa...   \n",
       "\n",
       "                          ID_clean  \\\n",
       "0      1000268201_693b08cb0e_0.jpg   \n",
       "1      1000268201_693b08cb0e_1.jpg   \n",
       "2      1000268201_693b08cb0e_2.jpg   \n",
       "3      1000268201_693b08cb0e_3.jpg   \n",
       "4      1000268201_693b08cb0e_4.jpg   \n",
       "...                            ...   \n",
       "40450   997722733_0cb5439472_0.jpg   \n",
       "40451   997722733_0cb5439472_1.jpg   \n",
       "40452   997722733_0cb5439472_2.jpg   \n",
       "40453   997722733_0cb5439472_3.jpg   \n",
       "40454   997722733_0cb5439472_4.jpg   \n",
       "\n",
       "                                              Text_Clean  \n",
       "0         child pink dress climbing set stairs entry way  \n",
       "1                             girl going wooden building  \n",
       "2                  little girl climbing wooden playhouse  \n",
       "3                  little girl climbing stairs playhouse  \n",
       "4              little girl pink dress going wooden cabin  \n",
       "...                                                  ...  \n",
       "40450                    man pink shirt climbs rock face  \n",
       "40451                         man rock climbing high air  \n",
       "40452  person red shirt climbing rock face covered as...  \n",
       "40453                             rock climber red shirt  \n",
       "40454          rock climber practices rock climbing wall  \n",
       "\n",
       "[40455 rows x 4 columns]"
      ]
     },
     "execution_count": 15,
     "metadata": {},
     "output_type": "execute_result"
    }
   ],
   "source": [
    "train_captions"
   ]
  },
  {
   "cell_type": "code",
   "execution_count": 16,
   "metadata": {},
   "outputs": [],
   "source": [
    "def load_glove(path_to_glove='./glove6B/glove.6B.300d.txt'):\n",
    "    '''\n",
    "    Obtenemos la representacion de la coleccion glove.GB.XXd.txt especificada\n",
    "    '''\n",
    "\n",
    "    # Lectura del archivo donde se tiene la representacion de glove\n",
    "    file = open(path_to_glove, mode='rt', encoding='utf8')\n",
    "\n",
    "    # Obtenemos un array con la representacion numerica de las palabras\n",
    "    word2em = {}\n",
    "    for line in file:\n",
    "        words = line.strip().split()\n",
    "        word = words[0]\n",
    "        embeds = np.array(words[1:], dtype=np.float32)\n",
    "        word2em[word] = embeds\n",
    "\n",
    "    file.close()\n",
    "\n",
    "    return word2em"
   ]
  },
  {
   "cell_type": "code",
   "execution_count": 17,
   "metadata": {},
   "outputs": [],
   "source": [
    "word2em = load_glove() # Con glove.6B.50d.txt esta en el directorio"
   ]
  },
  {
   "cell_type": "code",
   "execution_count": 18,
   "metadata": {},
   "outputs": [],
   "source": [
    "import numpy as np\n",
    "\n",
    "def encode_doc(doc, embedding_dim=300, max_allowed_doc_length=None):\n",
    "    '''\n",
    "    Representacion de una oracion en la coleccion glove.GB.XXd.txt antes cargada\n",
    "    Nota: se fija un parametro de longitud maxima\n",
    "    '''\n",
    "\n",
    "    words = [w.lower() for w in doc.split(' ')]\n",
    "    max_len = len(words)\n",
    "    if max_allowed_doc_length is not None:\n",
    "        max_len = min(len(words), max_allowed_doc_length)\n",
    "        E = np.zeros(shape=(embedding_dim, max_len))\n",
    "        X = np.zeros(shape=(embedding_dim, ))\n",
    "        for j in range(max_len):\n",
    "            word = words[j]\n",
    "            try:\n",
    "                E[:, j] = word2em[word]\n",
    "            except KeyError:\n",
    "                pass\n",
    "        X[:] = np.sum(E, axis=1)\n",
    "    return X"
   ]
  },
  {
   "cell_type": "code",
   "execution_count": 19,
   "metadata": {},
   "outputs": [
    {
     "data": {
      "text/plain": [
       "array([-2.01746003e+00, -1.24622601e+00,  3.12720031e-01, -9.65218515e-01,\n",
       "       -4.96359996e-01,  4.85479702e-01, -2.92581998e-01, -3.73486798e-01,\n",
       "       -9.14719991e-01, -2.78315997e+00, -1.43876097e+00,  3.86046004e-01,\n",
       "        7.34919950e-01,  1.18134800e+00,  9.46800411e-03,  5.36890000e-01,\n",
       "       -7.34710023e-01, -4.52101003e-01,  8.76445303e-01, -9.61528017e-01,\n",
       "       -3.72323968e-01,  1.44627800e+00, -5.29419996e-01,  8.39331985e-01,\n",
       "       -4.10408974e-01, -8.61647996e-01, -2.86365982e-01, -1.72702999e+00,\n",
       "       -3.11583430e-01,  2.97248396e+00,  5.14703996e-01,  5.20291967e-01,\n",
       "       -8.97470003e-01,  1.25128872e-01, -2.71195156e+00,  2.00563000e+00,\n",
       "       -1.41451300e+00,  1.60899758e-02,  1.06462900e+00, -1.31995962e-01,\n",
       "       -1.51403001e+00, -1.45187197e+00, -3.35710011e-01,  4.09263000e-01,\n",
       "       -2.80785994e-01,  6.47716001e-01,  2.33996999e+00,  1.63098965e-01,\n",
       "        6.26642007e-01,  2.07787511e-01,  2.89500013e-01, -3.14970031e-01,\n",
       "       -3.76971006e-01,  6.07799888e-02, -3.00510019e-01,  1.65600032e-01,\n",
       "       -6.54980011e-01, -7.72568017e-01,  2.06043003e+00, -8.88639987e-01,\n",
       "        1.69973101e+00,  5.54080084e-02,  1.98691000e+00, -7.86750130e-02,\n",
       "       -2.19249994e-01, -1.10130000e+00, -5.12795012e-01,  5.09297982e-01,\n",
       "       -7.61590019e-01, -1.18143678e+00, -1.70069003e+00,  2.50822054e-01,\n",
       "       -2.42602298e+00,  1.56172280e-01,  1.77583007e-01,  8.55473965e-01,\n",
       "        8.34179014e-01, -9.96284205e-02,  1.10719997e+00, -1.54213002e+00,\n",
       "       -1.89165197e+00,  5.83232023e-01,  6.56807655e-01, -4.94173949e-02,\n",
       "        6.39340013e-01,  4.50909883e-02,  3.51079993e-01,  3.87311017e-01,\n",
       "       -7.20611997e-01,  7.89398327e-03,  1.88541105e+00, -2.99850978e-01,\n",
       "        2.43840963e-01,  7.39349991e-01, -6.64324994e-01, -1.00286702e+00,\n",
       "        9.88696042e-01, -6.65989995e-01, -8.64476703e-01, -1.60648499e+00,\n",
       "        3.48163985e-01,  1.33661901e+00, -3.84737995e-01, -9.08549987e-01,\n",
       "        2.20217988e-01,  5.76550160e-02,  3.40431973e-01, -1.84939995e-01,\n",
       "        8.24955005e-01, -1.82720698e-01, -1.76174298e+00, -2.90250011e-01,\n",
       "        2.19067991e-01, -1.11588003e+00,  6.48529977e-01, -6.80713981e-01,\n",
       "       -1.73886988e-01,  1.76674796e+00, -1.00578003e+00,  9.82819982e-02,\n",
       "        3.70311972e-01, -4.08720016e-01,  4.76497010e-01,  2.91907996e-01,\n",
       "        4.92240004e-02,  1.12100691e-03, -5.05021002e-01, -4.78802972e-01,\n",
       "        8.44544016e-01, -5.24900019e-01, -1.47422999e-01,  1.44255003e+00,\n",
       "        7.66883001e-01,  3.37702878e-01,  1.18284990e-01,  1.24091987e-01,\n",
       "        5.70376989e-01,  1.04220901e+00, -2.17994000e+00,  2.44803097e-01,\n",
       "        1.73370175e+00,  1.06186697e+00, -5.45899719e-02, -5.93060028e-01,\n",
       "       -1.24853900e+00, -1.06976005e-01,  6.68469947e-02, -5.17304990e-01,\n",
       "       -5.96870035e-01, -4.61462982e-01, -8.80932988e-01,  1.42343003e+00,\n",
       "       -4.72500004e-01, -4.26039964e-01,  4.50720012e-01, -4.74543013e-01,\n",
       "       -6.14132017e-01, -4.51018387e-01, -5.76731423e-01,  1.42040998e+00,\n",
       "        1.55148358e+00, -1.36967999e+00,  2.64419973e-01, -1.15816597e+00,\n",
       "        7.58208025e-01,  4.35980003e-01, -1.05307899e+00,  9.07724008e-01,\n",
       "        1.69323399e+00, -8.34669016e-01, -8.87689020e-01,  4.74913007e-01,\n",
       "       -2.17912498e+00,  9.52028992e-01,  2.43424002e-01, -4.21539987e-01,\n",
       "       -3.92609984e-01,  1.04046201e+00,  9.95300025e-01, -6.83069974e-01,\n",
       "       -6.92807011e-01,  2.31879994e-01,  1.60822901e+00,  4.20152998e-01,\n",
       "        8.19079988e-02, -9.53059003e-01,  1.10797403e+00, -2.09669977e-01,\n",
       "        8.37659970e-01,  2.38523997e-01, -2.05839977e-01,  1.57482498e+00,\n",
       "        1.11915001e+00, -3.20162974e-01, -8.51697566e-01,  3.98820005e-01,\n",
       "       -1.25857299e+00, -5.92596004e-01, -5.20899998e-01, -3.22920913e-01,\n",
       "        5.79176015e+00,  7.21129999e-01,  3.94462038e-01,  8.88120010e-01,\n",
       "       -7.54439533e-02,  9.22870025e-01,  2.21129999e-01, -1.74987011e-01,\n",
       "       -1.60772799e+00,  3.45209956e-01, -8.73526029e-01,  2.37635009e-01,\n",
       "       -6.99630029e-01, -1.69496003e+00,  1.63549199e+00, -6.03729948e-01,\n",
       "        5.58497988e-01, -9.67580006e-01, -1.33590398e+00, -9.06637028e-01,\n",
       "        5.71446028e-01, -5.60249008e-01, -1.21792002e+00, -7.76939973e-01,\n",
       "       -1.04356403e+00,  9.87870004e-02, -1.91220015e-01, -8.40335591e-01,\n",
       "       -1.50302005e+00,  3.24591003e-01, -2.78399989e-01, -1.32934532e+00,\n",
       "       -3.28252998e+00, -1.97770001e+00,  1.73833498e+00,  9.36550021e-01,\n",
       "        5.91280013e-02,  6.06589993e-01, -6.37535017e-01, -4.37227994e-01,\n",
       "        6.81214022e-01, -9.11081005e-01, -1.96820009e-01,  3.75276010e-01,\n",
       "       -1.95478997e+00, -6.70225978e-01,  6.37696009e-01,  4.48711000e-01,\n",
       "       -1.16300700e+00,  7.98450008e-01, -3.99895005e-01, -8.42296589e-01,\n",
       "        8.11799848e-02, -1.54679796e+00,  2.27131999e+00,  5.62791977e-01,\n",
       "       -6.92033025e-01, -3.08760010e-01,  5.22226974e-01,  1.99768110e-01,\n",
       "       -6.41009979e-01, -3.93454311e-01, -6.84657004e-01, -9.13456969e-01,\n",
       "        1.36436498e+00,  5.34016006e-01, -4.42936011e-01,  4.53060962e-01,\n",
       "       -1.78031009e-01,  1.53915501e+00, -3.37910984e-01, -7.54539907e-01,\n",
       "        1.59490801e+00, -1.53524999e+00,  1.08546299e+00,  1.17742002e-01,\n",
       "       -6.19377602e+00, -1.10281004e+00, -2.08863001e+00,  1.80611998e+00,\n",
       "        6.96399985e-02, -5.03600240e-02, -1.80692999e+00, -5.22382310e-01,\n",
       "       -5.99861329e-01,  8.49887006e-01, -5.16774990e-01,  5.30811988e-01,\n",
       "       -1.00951198e+00, -6.56465888e-02, -9.90593038e-01, -5.12769281e-01,\n",
       "       -3.31109986e-01,  1.05111998e+00, -9.06713016e-01,  4.76306975e-01,\n",
       "       -1.15213998e+00,  4.64515992e-01,  2.14017004e-01,  1.03158604e+00])"
      ]
     },
     "execution_count": 19,
     "metadata": {},
     "output_type": "execute_result"
    }
   ],
   "source": [
    "encode_doc(train_captions.Text_Clean[2],300,100)"
   ]
  },
  {
   "cell_type": "code",
   "execution_count": 20,
   "metadata": {},
   "outputs": [],
   "source": [
    "def conversor(x):\n",
    "    '''\n",
    "    Convierte un documento usando Glove300B\n",
    "    '''\n",
    "    \n",
    "    return encode_doc(x,300,100)"
   ]
  },
  {
   "cell_type": "code",
   "execution_count": 21,
   "metadata": {},
   "outputs": [
    {
     "data": {
      "text/plain": [
       "0           child pink dress climbing set stairs entry way\n",
       "1                               girl going wooden building\n",
       "2                    little girl climbing wooden playhouse\n",
       "3                    little girl climbing stairs playhouse\n",
       "4                little girl pink dress going wooden cabin\n",
       "                               ...                        \n",
       "40450                      man pink shirt climbs rock face\n",
       "40451                           man rock climbing high air\n",
       "40452    person red shirt climbing rock face covered as...\n",
       "40453                               rock climber red shirt\n",
       "40454            rock climber practices rock climbing wall\n",
       "Name: Text_Clean, Length: 40455, dtype: object"
      ]
     },
     "execution_count": 21,
     "metadata": {},
     "output_type": "execute_result"
    }
   ],
   "source": [
    "train_captions.Text_Clean"
   ]
  },
  {
   "cell_type": "code",
   "execution_count": 22,
   "metadata": {},
   "outputs": [],
   "source": [
    "# Representacion del texto procesado\n",
    "\n",
    "l=[conversor(x) for x in train_captions.Text_Clean]"
   ]
  },
  {
   "cell_type": "code",
   "execution_count": 23,
   "metadata": {},
   "outputs": [
    {
     "data": {
      "text/plain": [
       "40455"
      ]
     },
     "execution_count": 23,
     "metadata": {},
     "output_type": "execute_result"
    }
   ],
   "source": [
    "len(l)"
   ]
  },
  {
   "cell_type": "code",
   "execution_count": 26,
   "metadata": {},
   "outputs": [
    {
     "data": {
      "text/plain": [
       "40455"
      ]
     },
     "execution_count": 26,
     "metadata": {},
     "output_type": "execute_result"
    }
   ],
   "source": [
    "len(train)"
   ]
  },
  {
   "cell_type": "code",
   "execution_count": 28,
   "metadata": {},
   "outputs": [
    {
     "data": {
      "text/plain": [
       "40455"
      ]
     },
     "execution_count": 28,
     "metadata": {},
     "output_type": "execute_result"
    }
   ],
   "source": [
    "len(real_images)"
   ]
  },
  {
   "cell_type": "code",
   "execution_count": null,
   "metadata": {},
   "outputs": [],
   "source": []
  },
  {
   "cell_type": "code",
   "execution_count": null,
   "metadata": {},
   "outputs": [],
   "source": []
  },
  {
   "cell_type": "code",
   "execution_count": null,
   "metadata": {},
   "outputs": [],
   "source": []
  },
  {
   "cell_type": "code",
   "execution_count": null,
   "metadata": {},
   "outputs": [],
   "source": []
  }
 ],
 "metadata": {
  "kernelspec": {
   "display_name": "Python 3",
   "language": "python",
   "name": "python3"
  },
  "language_info": {
   "codemirror_mode": {
    "name": "ipython",
    "version": 3
   },
   "file_extension": ".py",
   "mimetype": "text/x-python",
   "name": "python",
   "nbconvert_exporter": "python",
   "pygments_lexer": "ipython3",
   "version": "3.7.6"
  }
 },
 "nbformat": 4,
 "nbformat_minor": 4
}
