{
  "nbformat": 4,
  "nbformat_minor": 0,
  "metadata": {
    "kernelspec": {
      "display_name": "Python 3",
      "language": "python",
      "name": "python3"
    },
    "language_info": {
      "codemirror_mode": {
        "name": "ipython",
        "version": 3
      },
      "file_extension": ".py",
      "mimetype": "text/x-python",
      "name": "python",
      "nbconvert_exporter": "python",
      "pygments_lexer": "ipython3",
      "version": "3.7.6"
    },
    "colab": {
      "name": "VAE_model1_NewTEXT.ipynb",
      "provenance": [],
      "collapsed_sections": []
    },
    "accelerator": "GPU"
  },
  "cells": [
    {
      "cell_type": "code",
      "metadata": {
        "id": "B2kxbpO_agtZ",
        "colab_type": "code",
        "outputId": "9a5e61d3-13a0-4a34-8c2f-2482ae383f7d",
        "colab": {
          "base_uri": "https://localhost:8080/",
          "height": 124
        }
      },
      "source": [
        "# Leemos los pickles de imagenes y embedding de texto\n",
        "# En caso contrario perdiamos mucho tiempo ...\n",
        "from google.colab import drive\n",
        "drive.mount('/content/drive') "
      ],
      "execution_count": 1,
      "outputs": [
        {
          "output_type": "stream",
          "text": [
            "Go to this URL in a browser: https://accounts.google.com/o/oauth2/auth?client_id=947318989803-6bn6qk8qdgf4n4g3pfee6491hc0brc4i.apps.googleusercontent.com&redirect_uri=urn%3aietf%3awg%3aoauth%3a2.0%3aoob&response_type=code&scope=email%20https%3a%2f%2fwww.googleapis.com%2fauth%2fdocs.test%20https%3a%2f%2fwww.googleapis.com%2fauth%2fdrive%20https%3a%2f%2fwww.googleapis.com%2fauth%2fdrive.photos.readonly%20https%3a%2f%2fwww.googleapis.com%2fauth%2fpeopleapi.readonly\n",
            "\n",
            "Enter your authorization code:\n",
            "··········\n",
            "Mounted at /content/drive\n"
          ],
          "name": "stdout"
        }
      ]
    },
    {
      "cell_type": "code",
      "metadata": {
        "id": "I91k9utlb2Jm",
        "colab_type": "code",
        "colab": {}
      },
      "source": [
        "# Path donde se alojan los pickles (cambiarlo segun corresponda)\n",
        "path=\"/content/drive/My Drive/Proyecto_Deep/pickles/\""
      ],
      "execution_count": 0,
      "outputs": []
    },
    {
      "cell_type": "code",
      "metadata": {
        "id": "1uYNQGlzcWRq",
        "colab_type": "code",
        "outputId": "52c79cea-ca48-4534-d671-da75e555647c",
        "colab": {
          "base_uri": "https://localhost:8080/",
          "height": 87
        }
      },
      "source": [
        "# Verificamos qie exisnta los pickles en el path\n",
        "!ls /content/drive/'My Drive'/Proyecto_Deep/pickles/"
      ],
      "execution_count": 3,
      "outputs": [
        {
          "output_type": "stream",
          "text": [
            "Loading_pickles.ipynb\t      VAE_model1.ipynb\tx_train.pkl\n",
            "Loading_pickles_v3.ipynb      x_test.pickle\ty_test64.pkl\n",
            "notebooks\t\t      x_test.pkl\ty_test.pkl\n",
            "Prueba_Embedding_Texto.ipynb  x_train.pickle\ty_train64.pkl\n"
          ],
          "name": "stdout"
        }
      ]
    },
    {
      "cell_type": "markdown",
      "metadata": {
        "id": "f7jroS6GAZ5u",
        "colab_type": "text"
      },
      "source": [
        "**Importamos librerias relevantes**"
      ]
    },
    {
      "cell_type": "code",
      "metadata": {
        "id": "COnbJVo1WOZ8",
        "colab_type": "code",
        "colab": {}
      },
      "source": [
        "import pickle\n",
        "import numpy as np\n",
        "import pandas as pd\n",
        "import matplotlib.pyplot as plt\n",
        "from tensorflow.keras.datasets import mnist\n",
        "\n",
        "import tensorflow as tf\n",
        "from tensorflow.keras.models import Model, Sequential\n",
        "from tensorflow.keras import layers\n",
        "from tensorflow.keras.layers import Input, Conv2D, Conv2DTranspose, Dense, \\\n",
        "Lambda, Dropout, UpSampling2D, MaxPooling2D\n",
        "from tensorflow.keras.losses import binary_crossentropy, MeanSquaredError,\\\n",
        "MeanAbsoluteError\n",
        "from tensorflow.keras.utils import plot_model\n",
        "from tensorflow.keras.optimizers import Adam, SGD, RMSprop\n",
        "from tensorflow.keras.backend import reshape"
      ],
      "execution_count": 0,
      "outputs": []
    },
    {
      "cell_type": "code",
      "metadata": {
        "id": "3ztNyt5DWOan",
        "colab_type": "code",
        "colab": {}
      },
      "source": [
        "# Carga pickles de imagenes a color (64,64,3)\n",
        "# Nota: se deben procesar los datos, dado que esta en una tupla\n",
        "\n",
        "# Datos de imagenes\n",
        "y_train_pk = np.load('/content/drive/My Drive/Proyecto_Deep/pickles/y_train64.pkl', allow_pickle=True)\n",
        "y_test_pk = np.load('/content/drive/My Drive/Proyecto_Deep/pickles/y_test64.pkl', allow_pickle=True)"
      ],
      "execution_count": 0,
      "outputs": []
    },
    {
      "cell_type": "code",
      "metadata": {
        "id": "TrG3HyDLkZp4",
        "colab_type": "code",
        "outputId": "9e9e18c4-80cd-4fc2-fdc0-a8a2e5b8097b",
        "colab": {
          "base_uri": "https://localhost:8080/",
          "height": 35
        }
      },
      "source": [
        "y_test_pk[:,1][0].shape"
      ],
      "execution_count": 8,
      "outputs": [
        {
          "output_type": "execute_result",
          "data": {
            "text/plain": [
              "(64, 64, 3)"
            ]
          },
          "metadata": {
            "tags": []
          },
          "execution_count": 8
        }
      ]
    },
    {
      "cell_type": "code",
      "metadata": {
        "id": "kIprDRSgWObA",
        "colab_type": "code",
        "colab": {}
      },
      "source": [
        "# Carga pickles de encaje de texto usando gloveB50\n",
        "# Nota: se deben procesar los datos, dado que esta en una tupla\n",
        "\n",
        "x_train_pk = np.load('/content/drive/My Drive/Proyecto_Deep/pickles/x_train.pkl', allow_pickle=True)\n",
        "x_test_pk = np.load('/content/drive/My Drive/Proyecto_Deep/pickles/x_test.pkl', allow_pickle=True)"
      ],
      "execution_count": 0,
      "outputs": []
    },
    {
      "cell_type": "code",
      "metadata": {
        "id": "-z6C4IyLKmb6",
        "colab_type": "code",
        "colab": {}
      },
      "source": [
        ""
      ],
      "execution_count": 0,
      "outputs": []
    },
    {
      "cell_type": "code",
      "metadata": {
        "id": "Jvm9Lpm_WObU",
        "colab_type": "code",
        "colab": {}
      },
      "source": [
        "# Transformamos las tuplas de los pickles y modificamos la estructura de los array\n",
        "# que contienen para que los reconozca tensorflow\n",
        "x_train = x_train_pk[:,1]\n",
        "y_train = y_train_pk[:,1]\n",
        "\n",
        "x_test = x_test_pk[:,1]\n",
        "y_test = y_test_pk[:,1]\n",
        "\n",
        "\n",
        "# np.concatenate consolida en un array lo que teniamos antes(como array de arrays)\n",
        "a = np.concatenate(x_train, axis=0 )\n",
        "x_train = a.reshape(32364,50)\n",
        "\n",
        "c = np.concatenate(y_train, axis=0 )\n",
        "y_train = c.reshape(32364,64, 64, 3)/255\n",
        "\n",
        "b = np.concatenate(x_test, axis=0 )\n",
        "x_test = b.reshape(8091,50)\n",
        "\n",
        "#y_test = d.reshape(8091,64, 64, 3)/255\n",
        "d = np.concatenate(y_test, axis=0 )\n",
        "y_test = d.reshape(8091,64, 64, 3)/255\n"
      ],
      "execution_count": 0,
      "outputs": []
    },
    {
      "cell_type": "code",
      "metadata": {
        "id": "lZdWD3RWMLZJ",
        "colab_type": "code",
        "colab": {
          "base_uri": "https://localhost:8080/",
          "height": 243
        },
        "outputId": "ee0c899c-8dfd-4ecb-a0d1-b239d59b2f48"
      },
      "source": [
        "x_train[0]"
      ],
      "execution_count": 11,
      "outputs": [
        {
          "output_type": "execute_result",
          "data": {
            "text/plain": [
              "array([ 1.54087203e+00,  1.97417001e+00, -1.08254202e+00, -2.19563000e+00,\n",
              "        4.63806610e+00,  2.52093995e+00, -4.79618001e+00, -7.39626989e-01,\n",
              "       -6.25710225e-01, -1.33598606e+00, -2.08017573e+00, -1.37138602e+00,\n",
              "       -2.09747998e+00,  3.25139395e+00,  1.05989998e+00, -9.43800658e-02,\n",
              "        8.19599070e-03,  2.22963401e+00, -2.55056000e+00, -2.64512002e+00,\n",
              "        1.59457506e+00,  1.95994999e+00, -2.77385998e+00,  9.79699492e-02,\n",
              "        6.20970003e-01, -1.18994300e+01, -1.40047803e+00,  3.50173234e+00,\n",
              "        3.73828000e+00, -2.86829795e+00,  2.29308996e+01, -2.24512794e+00,\n",
              "       -1.91024002e+00,  7.45739952e-01,  9.56442028e-01,  3.05013001e+00,\n",
              "        1.49111497e+00,  1.08339998e+00,  2.11711997e+00, -2.04559007e+00,\n",
              "       -1.55193041e+00, -1.23865104e+00, -1.24541495e+00,  1.23805797e+00,\n",
              "        7.95175973e-01, -1.13491945e-01,  5.52139983e-01, -4.85787403e+00,\n",
              "        7.81592961e-01, -2.49222114e+00])"
            ]
          },
          "metadata": {
            "tags": []
          },
          "execution_count": 11
        }
      ]
    },
    {
      "cell_type": "code",
      "metadata": {
        "id": "63Q9TAD7ol8i",
        "colab_type": "code",
        "colab": {}
      },
      "source": [
        "del y_train_pk\n",
        "del y_test_pk\n",
        "del x_train_pk\n",
        "del x_test_pk"
      ],
      "execution_count": 0,
      "outputs": []
    },
    {
      "cell_type": "code",
      "metadata": {
        "id": "ELjkK1JOpj_a",
        "colab_type": "code",
        "outputId": "56d7e8b1-4206-4388-b09f-e2132d4e0996",
        "colab": {
          "base_uri": "https://localhost:8080/",
          "height": 35
        }
      },
      "source": [
        "x_test.shape"
      ],
      "execution_count": 13,
      "outputs": [
        {
          "output_type": "execute_result",
          "data": {
            "text/plain": [
              "(8091, 50)"
            ]
          },
          "metadata": {
            "tags": []
          },
          "execution_count": 13
        }
      ]
    },
    {
      "cell_type": "code",
      "metadata": {
        "id": "1PmzrRZaWObo",
        "colab_type": "code",
        "colab": {}
      },
      "source": [
        "# Funcion qye convierte a tensores los arreglos de numpy (ya no se usa)\n",
        "# https://www.tensorflow.org/api_docs/python/tf/convert_to_tensor\n",
        "def my_func(arg):\n",
        "  arg = tf.convert_to_tensor(arg, dtype=tf.float32)\n",
        "  return arg"
      ],
      "execution_count": 0,
      "outputs": []
    },
    {
      "cell_type": "code",
      "metadata": {
        "id": "SyYZq0mWWOc2",
        "colab_type": "code",
        "outputId": "4c17adfb-200f-4b64-aecb-223323e2e895",
        "colab": {
          "base_uri": "https://localhost:8080/",
          "height": 81
        }
      },
      "source": [
        "# Probamos una imagen, para verificar la correcta manipulacion de datos\n",
        "import tensorflow as tf\n",
        "tf.keras.preprocessing.image.array_to_img(y_test[40])"
      ],
      "execution_count": 15,
      "outputs": [
        {
          "output_type": "execute_result",
          "data": {
            "image/png": "[encoded data removed]",
            "text/plain": [
              "<PIL.Image.Image image mode=RGB size=64x64 at 0x7F5177196FD0>"
            ]
          },
          "metadata": {
            "tags": []
          },
          "execution_count": 15
        }
      ]
    },
    {
      "cell_type": "markdown",
      "metadata": {
        "id": "c_9XFtaCBomm",
        "colab_type": "text"
      },
      "source": [
        "**Modelo**\n",
        "\n",
        "Primero definimos una funcion auxiliar"
      ]
    },
    {
      "cell_type": "code",
      "metadata": {
        "id": "5ytGP723WOdM",
        "colab_type": "code",
        "colab": {}
      },
      "source": [
        "class Sampling(layers.Layer):\n",
        "  \"\"\"Uses (z_mean, z_log_var) to sample z, the vector encoding a digit.\"\"\"\n",
        "\n",
        "  def call(self, inputs):\n",
        "    z_mean, z_log_var = inputs\n",
        "    batch = tf.shape(z_mean)[0]\n",
        "    dim = tf.shape(z_mean)[1]\n",
        "    epsilon = tf.keras.backend.random_normal(shape=(batch, dim))\n",
        "    return z_mean + tf.exp(0.5 * z_log_var) * epsilon"
      ],
      "execution_count": 0,
      "outputs": []
    },
    {
      "cell_type": "markdown",
      "metadata": {
        "id": "3EZ_AD7oBwZp",
        "colab_type": "text"
      },
      "source": [
        "Definicion del encoder"
      ]
    },
    {
      "cell_type": "code",
      "metadata": {
        "id": "aPEXAoiwWOdb",
        "colab_type": "code",
        "outputId": "7ffd2118-8d12-4339-a61f-978229efa460",
        "colab": {
          "base_uri": "https://localhost:8080/",
          "height": 347
        }
      },
      "source": [
        "# Encoder\n",
        "# Nota: el input es consistente con el tamanio de Glove50\n",
        "# Modificar en caso de que probemos un encaje mas grande\n",
        "\n",
        "original_inputs = Input(shape=(50,), name='encoder_input')\n",
        "x = Dense(100, activation='relu')(original_inputs)\n",
        "#x = Conv2D(64, kernel_size=4,strides=2,padding= 'same',activation='relu')(x)\n",
        "z_mean = Dense(150, name='z_mean')(x)\n",
        "z_log_var = Dense(150, name='z_log_var')(x)\n",
        "z = Sampling()((z_mean, z_log_var))\n",
        "encoder = Model(inputs=original_inputs, outputs=z, name='encoder')\n",
        "\n",
        "# Final encoder\n",
        "encoder.summary()\n"
      ],
      "execution_count": 17,
      "outputs": [
        {
          "output_type": "stream",
          "text": [
            "Model: \"encoder\"\n",
            "__________________________________________________________________________________________________\n",
            "Layer (type)                    Output Shape         Param #     Connected to                     \n",
            "==================================================================================================\n",
            "encoder_input (InputLayer)      [(None, 50)]         0                                            \n",
            "__________________________________________________________________________________________________\n",
            "dense (Dense)                   (None, 100)          5100        encoder_input[0][0]              \n",
            "__________________________________________________________________________________________________\n",
            "z_mean (Dense)                  (None, 150)          15150       dense[0][0]                      \n",
            "__________________________________________________________________________________________________\n",
            "z_log_var (Dense)               (None, 150)          15150       dense[0][0]                      \n",
            "__________________________________________________________________________________________________\n",
            "sampling (Sampling)             (None, 150)          0           z_mean[0][0]                     \n",
            "                                                                 z_log_var[0][0]                  \n",
            "==================================================================================================\n",
            "Total params: 35,400\n",
            "Trainable params: 35,400\n",
            "Non-trainable params: 0\n",
            "__________________________________________________________________________________________________\n"
          ],
          "name": "stdout"
        }
      ]
    },
    {
      "cell_type": "code",
      "metadata": {
        "id": "E-YirY85Q-hy",
        "colab_type": "code",
        "outputId": "d5c09a6b-e254-4df0-c089-3ce756475819",
        "colab": {
          "base_uri": "https://localhost:8080/",
          "height": 369
        }
      },
      "source": [
        "plot_model(encoder,show_layer_names=True)"
      ],
      "execution_count": 18,
      "outputs": [
        {
          "output_type": "execute_result",
          "data": {
            "image/png": "[encoded data removed]",
            "text/plain": [
              "<IPython.core.display.Image object>"
            ]
          },
          "metadata": {
            "tags": []
          },
          "execution_count": 18
        }
      ]
    },
    {
      "cell_type": "markdown",
      "metadata": {
        "id": "SHOjtsbUCIE7",
        "colab_type": "text"
      },
      "source": [
        "Definicion del decoder"
      ]
    },
    {
      "cell_type": "code",
      "metadata": {
        "id": "tETVZt__WOdo",
        "colab_type": "code",
        "outputId": "2356f89b-fb71-4830-e04d-9eaeb3818d5c",
        "colab": {
          "base_uri": "https://localhost:8080/",
          "height": 329
        }
      },
      "source": [
        "# Decoder\n",
        "\n",
        "latent_inputs = Input(shape=(150,), name='z_sampling')\n",
        "x = Dense(300, activation='relu')(latent_inputs)\n",
        "x = Dense(600, activation='sigmoid')(x)\n",
        "x = Dense(12288, activation='sigmoid')(x)\n",
        "outputs = reshape(x, shape=(1, 64, 64, 3))\n",
        "decoder = Model(inputs=latent_inputs, outputs=outputs, name='decoder')\n",
        "\n",
        "# Final encoder\n",
        "decoder.summary()"
      ],
      "execution_count": 19,
      "outputs": [
        {
          "output_type": "stream",
          "text": [
            "Model: \"decoder\"\n",
            "_________________________________________________________________\n",
            "Layer (type)                 Output Shape              Param #   \n",
            "=================================================================\n",
            "z_sampling (InputLayer)      [(None, 150)]             0         \n",
            "_________________________________________________________________\n",
            "dense_1 (Dense)              (None, 300)               45300     \n",
            "_________________________________________________________________\n",
            "dense_2 (Dense)              (None, 600)               180600    \n",
            "_________________________________________________________________\n",
            "dense_3 (Dense)              (None, 12288)             7385088   \n",
            "_________________________________________________________________\n",
            "tf_op_layer_Reshape (TensorF [(1, 64, 64, 3)]          0         \n",
            "=================================================================\n",
            "Total params: 7,610,988\n",
            "Trainable params: 7,610,988\n",
            "Non-trainable params: 0\n",
            "_________________________________________________________________\n"
          ],
          "name": "stdout"
        }
      ]
    },
    {
      "cell_type": "code",
      "metadata": {
        "id": "21goi4lBRX0O",
        "colab_type": "code",
        "colab": {}
      },
      "source": [
        "#plot_model(decoder,show_layer_names=True)"
      ],
      "execution_count": 0,
      "outputs": []
    },
    {
      "cell_type": "code",
      "metadata": {
        "id": "fD-5PNRJWOd5",
        "colab_type": "code",
        "outputId": "89e4c540-c369-4160-812d-dce759468de0",
        "colab": {
          "base_uri": "https://localhost:8080/",
          "height": 381
        }
      },
      "source": [
        "# Modelo VAE\n",
        "outputs = decoder(z)\n",
        "vae = Model(inputs=original_inputs, outputs=outputs, name='vae')\n",
        "vae.summary()"
      ],
      "execution_count": 21,
      "outputs": [
        {
          "output_type": "stream",
          "text": [
            "Model: \"vae\"\n",
            "__________________________________________________________________________________________________\n",
            "Layer (type)                    Output Shape         Param #     Connected to                     \n",
            "==================================================================================================\n",
            "encoder_input (InputLayer)      [(None, 50)]         0                                            \n",
            "__________________________________________________________________________________________________\n",
            "dense (Dense)                   (None, 100)          5100        encoder_input[0][0]              \n",
            "__________________________________________________________________________________________________\n",
            "z_mean (Dense)                  (None, 150)          15150       dense[0][0]                      \n",
            "__________________________________________________________________________________________________\n",
            "z_log_var (Dense)               (None, 150)          15150       dense[0][0]                      \n",
            "__________________________________________________________________________________________________\n",
            "sampling (Sampling)             (None, 150)          0           z_mean[0][0]                     \n",
            "                                                                 z_log_var[0][0]                  \n",
            "__________________________________________________________________________________________________\n",
            "decoder (Model)                 (1, 64, 64, 3)       7610988     sampling[0][0]                   \n",
            "==================================================================================================\n",
            "Total params: 7,646,388\n",
            "Trainable params: 7,646,388\n",
            "Non-trainable params: 0\n",
            "__________________________________________________________________________________________________\n"
          ],
          "name": "stdout"
        }
      ]
    },
    {
      "cell_type": "code",
      "metadata": {
        "id": "U55TpotoRcUG",
        "colab_type": "code",
        "colab": {}
      },
      "source": [
        "#plot_model(vae, show_layer_names=True)"
      ],
      "execution_count": 0,
      "outputs": []
    },
    {
      "cell_type": "code",
      "metadata": {
        "id": "EZOtnqXRWOeI",
        "colab_type": "code",
        "colab": {}
      },
      "source": [
        "# Agregamos la divergencia Kullback Liber para regularizacion de funcion de perdida\n",
        "kl_loss = - 0.5 * tf.reduce_mean(\n",
        "    z_log_var - tf.square(z_mean) - tf.exp(z_log_var) + 1)\n",
        "vae.add_loss(kl_loss)"
      ],
      "execution_count": 0,
      "outputs": []
    },
    {
      "cell_type": "code",
      "metadata": {
        "id": "0ZVMzB1ID5sd",
        "colab_type": "code",
        "colab": {}
      },
      "source": [
        ""
      ],
      "execution_count": 0,
      "outputs": []
    },
    {
      "cell_type": "code",
      "metadata": {
        "id": "INK2vQMJA2-a",
        "colab_type": "code",
        "colab": {}
      },
      "source": [
        "import os\n",
        "checkpoint_path = \"/content/drive/My Drive/Proyecto_Deep/pesos/cp-{epoch:04d}.ckpt\"\n",
        "checkpoint_dir = os.path.dirname(checkpoint_path)"
      ],
      "execution_count": 0,
      "outputs": []
    },
    {
      "cell_type": "code",
      "metadata": {
        "id": "cbDim2-OBXjY",
        "colab_type": "code",
        "colab": {
          "base_uri": "https://localhost:8080/",
          "height": 55
        },
        "outputId": "de263344-2644-4ba8-a43a-957175f7fb68"
      },
      "source": [
        "cp_callback = tf.keras.callbacks.ModelCheckpoint(filepath=checkpoint_path,\n",
        "                                                 save_weights_only=True,\n",
        "                                                 verbose=1,\n",
        "                                                 period = 5\n",
        "                                                 )"
      ],
      "execution_count": 25,
      "outputs": [
        {
          "output_type": "stream",
          "text": [
            "WARNING:tensorflow:`period` argument is deprecated. Please use `save_freq` to specify the frequency in number of batches seen.\n"
          ],
          "name": "stdout"
        }
      ]
    },
    {
      "cell_type": "markdown",
      "metadata": {
        "id": "R-JANLXKC7SO",
        "colab_type": "text"
      },
      "source": [
        "Entrenamos"
      ]
    },
    {
      "cell_type": "code",
      "metadata": {
        "id": "9ib1AmAiWOeu",
        "colab_type": "code",
        "outputId": "4a162858-5726-4be2-cc9f-e4b1aaa92bac",
        "colab": {
          "base_uri": "https://localhost:8080/",
          "height": 453
        }
      },
      "source": [
        "# Train.\n",
        "optimizer = RMSprop(learning_rate=1e-2) #Adam(learning_rate=1e-4) #SGD(learning_rate=1e-4) # \n",
        "vae.compile(optimizer, loss = MeanSquaredError(), metrics=['accuracy'])\n",
        "hist=vae.fit(x_train,y_train, epochs=10,callbacks=[cp_callback], batch_size=1, shuffle=True, validation_data=(x_test,y_test) )"
      ],
      "execution_count": 26,
      "outputs": [
        {
          "output_type": "stream",
          "text": [
            "Epoch 1/10\n",
            "32364/32364 [==============================] - 283s 9ms/step - loss: 0.0704 - accuracy: 0.4415 - val_loss: 0.0686 - val_accuracy: 0.3970\n",
            "Epoch 2/10\n",
            "32364/32364 [==============================] - 283s 9ms/step - loss: 0.0694 - accuracy: 0.4402 - val_loss: 0.0689 - val_accuracy: 0.4633\n",
            "Epoch 3/10\n",
            "32364/32364 [==============================] - 283s 9ms/step - loss: 0.0694 - accuracy: 0.4427 - val_loss: 0.0689 - val_accuracy: 0.4363\n",
            "Epoch 4/10\n",
            "32364/32364 [==============================] - 284s 9ms/step - loss: 0.0695 - accuracy: 0.4420 - val_loss: 0.0699 - val_accuracy: 0.3843\n",
            "Epoch 5/10\n",
            "32361/32364 [============================>.] - ETA: 0s - loss: 0.0694 - accuracy: 0.4426\n",
            "Epoch 00005: saving model to /content/drive/My Drive/Proyecto_Deep/pesos/cp-0005.ckpt\n",
            "32364/32364 [==============================] - 286s 9ms/step - loss: 0.0694 - accuracy: 0.4426 - val_loss: 0.0683 - val_accuracy: 0.3137\n",
            "Epoch 6/10\n",
            "32364/32364 [==============================] - 284s 9ms/step - loss: 0.0694 - accuracy: 0.4415 - val_loss: 0.0688 - val_accuracy: 0.4460\n",
            "Epoch 7/10\n",
            "32364/32364 [==============================] - 284s 9ms/step - loss: 0.0695 - accuracy: 0.4416 - val_loss: 0.0705 - val_accuracy: 0.4265\n",
            "Epoch 8/10\n",
            "32364/32364 [==============================] - 283s 9ms/step - loss: 0.0694 - accuracy: 0.4424 - val_loss: 0.0683 - val_accuracy: 0.5757\n",
            "Epoch 9/10\n",
            "32364/32364 [==============================] - 289s 9ms/step - loss: 0.0694 - accuracy: 0.4427 - val_loss: 0.0688 - val_accuracy: 0.5440\n",
            "Epoch 10/10\n",
            "32360/32364 [============================>.] - ETA: 0s - loss: 0.0695 - accuracy: 0.4422\n",
            "Epoch 00010: saving model to /content/drive/My Drive/Proyecto_Deep/pesos/cp-0010.ckpt\n",
            "32364/32364 [==============================] - 287s 9ms/step - loss: 0.0695 - accuracy: 0.4422 - val_loss: 0.0699 - val_accuracy: 0.4389\n"
          ],
          "name": "stdout"
        }
      ]
    },
    {
      "cell_type": "code",
      "metadata": {
        "id": "x7CgHSu0Du0s",
        "colab_type": "code",
        "colab": {
          "base_uri": "https://localhost:8080/",
          "height": 52
        },
        "outputId": "28412e62-02e5-4512-97ea-19d45e219a27"
      },
      "source": [
        "ls {checkpoint_dir}"
      ],
      "execution_count": 43,
      "outputs": [
        {
          "output_type": "stream",
          "text": [
            "ls: cannot access '/content/drive/My': No such file or directory\n",
            "ls: cannot access 'Drive/Proyecto_Deep/pickles': No such file or directory\n"
          ],
          "name": "stdout"
        }
      ]
    },
    {
      "cell_type": "code",
      "metadata": {
        "id": "-8QStqR3Qf3w",
        "colab_type": "code",
        "colab": {}
      },
      "source": [
        "#plot_model(vae, show_layer_names=True)"
      ],
      "execution_count": 0,
      "outputs": []
    },
    {
      "cell_type": "code",
      "metadata": {
        "id": "knvVjLC9AFhu",
        "colab_type": "code",
        "colab": {}
      },
      "source": [
        "def viendo_imagenes(i):\n",
        "\n",
        "  pruebita= encoder.predict(np.array([x_train[i]]))\n",
        "  pruebita2= decoder.predict(pruebita)\n",
        "\n",
        "  return tf.keras.preprocessing.image.array_to_img(pruebita2.reshape(64,64,3) )"
      ],
      "execution_count": 0,
      "outputs": []
    },
    {
      "cell_type": "code",
      "metadata": {
        "id": "rI7MLBKHWx9c",
        "colab_type": "code",
        "colab": {}
      },
      "source": [
        "path_glove = '/content/drive/My Drive/Proyecto_Deep/pickles/glove.6B.50d.txt)"
      ],
      "execution_count": 0,
      "outputs": []
    },
    {
      "cell_type": "code",
      "metadata": {
        "id": "o_Lv8yuGYxuz",
        "colab_type": "code",
        "colab": {}
      },
      "source": [
        "def load_glove(path_to_glove='/content/drive/My Drive/Proyecto_Deep/pickles/glove.6B.50d.txt'):\n",
        "    '''\n",
        "    Obtenemos la representacion de la coleccion glove.GB.XXd.txt especificada\n",
        "    '''\n",
        "\n",
        "    # Lectura del archivo donde se tiene la representacion de glove\n",
        "    file = open(path_to_glove, mode='rt', encoding='utf8')\n",
        "\n",
        "    # Obtenemos un array con la representacion numerica de las palabras\n",
        "    word2em = {}\n",
        "    for line in file:\n",
        "        words = line.strip().split()\n",
        "        word = words[0]\n",
        "        embeds = np.array(words[1:], dtype=np.float32)\n",
        "        word2em[word] = embeds\n",
        "\n",
        "    file.close()\n",
        "\n",
        "    return word2em"
      ],
      "execution_count": 0,
      "outputs": []
    },
    {
      "cell_type": "code",
      "metadata": {
        "id": "KZrbkG5fYxyc",
        "colab_type": "code",
        "colab": {}
      },
      "source": [
        "word2em = load_glove()"
      ],
      "execution_count": 0,
      "outputs": []
    },
    {
      "cell_type": "code",
      "metadata": {
        "id": "5Gk4GFNTYxsi",
        "colab_type": "code",
        "colab": {}
      },
      "source": [
        "import numpy as np\n",
        "\n",
        "def encode_doc(doc, embedding_dim=50, max_allowed_doc_length=None):\n",
        "    '''\n",
        "    Representacion de una oracion en la coleccion glove.GB.XXd.txt antes cargada\n",
        "    Nota: se fija un parametro de longitud maxima\n",
        "    '''\n",
        "\n",
        "    words = [w.lower() for w in doc.split(' ')]\n",
        "    max_len = len(words)\n",
        "    if max_allowed_doc_length is not None:\n",
        "        max_len = min(len(words), max_allowed_doc_length)\n",
        "        E = np.zeros(shape=(embedding_dim, max_len))\n",
        "        X = np.zeros(shape=(embedding_dim, ))\n",
        "        for j in range(max_len):\n",
        "            word = words[j]\n",
        "            try:\n",
        "                E[:, j] = word2em[word]\n",
        "            except KeyError:\n",
        "                pass\n",
        "        X[:] = np.sum(E, axis=1)\n",
        "    return X"
      ],
      "execution_count": 0,
      "outputs": []
    },
    {
      "cell_type": "code",
      "metadata": {
        "id": "iGOnnzGnZAOr",
        "colab_type": "code",
        "colab": {
          "base_uri": "https://localhost:8080/",
          "height": 35
        },
        "outputId": "69c816b4-ee4d-4221-c429-0fcf28850279"
      },
      "source": [
        "prueba = \"a child in a green jacket is running across the street\"\n",
        "prueba"
      ],
      "execution_count": 33,
      "outputs": [
        {
          "output_type": "execute_result",
          "data": {
            "text/plain": [
              "'a child in a green jacket is running across the street'"
            ]
          },
          "metadata": {
            "tags": []
          },
          "execution_count": 33
        }
      ]
    },
    {
      "cell_type": "code",
      "metadata": {
        "id": "O6EZGYnHZEaa",
        "colab_type": "code",
        "colab": {
          "base_uri": "https://localhost:8080/",
          "height": 35
        },
        "outputId": "bdb883a1-4b48-4bec-d3b7-5962b402c406"
      },
      "source": [
        "pruebaEmb=encode_doc(prueba,50,100)\n",
        "pruebaEmb.shape"
      ],
      "execution_count": 47,
      "outputs": [
        {
          "output_type": "execute_result",
          "data": {
            "text/plain": [
              "(50,)"
            ]
          },
          "metadata": {
            "tags": []
          },
          "execution_count": 47
        }
      ]
    },
    {
      "cell_type": "code",
      "metadata": {
        "id": "KENxsJVQbFeL",
        "colab_type": "code",
        "colab": {
          "base_uri": "https://localhost:8080/",
          "height": 35
        },
        "outputId": "49081c0d-89c4-44fd-9401-6f2e548643e1"
      },
      "source": [
        "x_train[90].shape"
      ],
      "execution_count": 46,
      "outputs": [
        {
          "output_type": "execute_result",
          "data": {
            "text/plain": [
              "(50,)"
            ]
          },
          "metadata": {
            "tags": []
          },
          "execution_count": 46
        }
      ]
    },
    {
      "cell_type": "code",
      "metadata": {
        "id": "8idOHcjkasGF",
        "colab_type": "code",
        "colab": {
          "base_uri": "https://localhost:8080/",
          "height": 35
        },
        "outputId": "b78d9e4e-f5bd-4701-d001-d7925b36d13f"
      },
      "source": [
        "pruebita= encoder.predict(np.array([x_train[90]]))\n",
        "pruebita2= decoder.predict(pruebita)\n",
        "type(pruebita)"
      ],
      "execution_count": 48,
      "outputs": [
        {
          "output_type": "execute_result",
          "data": {
            "text/plain": [
              "numpy.ndarray"
            ]
          },
          "metadata": {
            "tags": []
          },
          "execution_count": 48
        }
      ]
    },
    {
      "cell_type": "code",
      "metadata": {
        "id": "Yz9pWkH0asJk",
        "colab_type": "code",
        "colab": {
          "base_uri": "https://localhost:8080/",
          "height": 35
        },
        "outputId": "a55ee644-a1b1-4c4b-82c2-e46a96a10632"
      },
      "source": [
        "pruebita= encoder.predict(np.array([pruebaEmb]))\n",
        "pruebita2= decoder.predict(pruebita)\n",
        "result =tf.keras.preprocessing.image.array_to_img(pruebita2.reshape(64,64,3) )\n",
        "type(result)"
      ],
      "execution_count": 53,
      "outputs": [
        {
          "output_type": "execute_result",
          "data": {
            "text/plain": [
              "PIL.Image.Image"
            ]
          },
          "metadata": {
            "tags": []
          },
          "execution_count": 53
        }
      ]
    },
    {
      "cell_type": "code",
      "metadata": {
        "id": "RjWmyVpQfSss",
        "colab_type": "code",
        "colab": {}
      },
      "source": [
        "im1 = result.save(\"texto_creado.png\") "
      ],
      "execution_count": 0,
      "outputs": []
    },
    {
      "cell_type": "code",
      "metadata": {
        "id": "O0ELZcoMHQ27",
        "colab_type": "code",
        "outputId": "b621940f-3c38-481f-bcb9-ed969d58c205",
        "colab": {
          "base_uri": "https://localhost:8080/",
          "height": 81
        }
      },
      "source": [
        "viendo_imagenes(90)"
      ],
      "execution_count": 36,
      "outputs": [
        {
          "output_type": "execute_result",
          "data": {
            "image/png": "[encoded data removed]",
            "text/plain": [
              "<PIL.Image.Image image mode=RGB size=64x64 at 0x7F50A2812390>"
            ]
          },
          "metadata": {
            "tags": []
          },
          "execution_count": 36
        }
      ]
    },
    {
      "cell_type": "code",
      "metadata": {
        "id": "Fb73khRxZw-p",
        "colab_type": "code",
        "outputId": "3e43c9b2-4543-4f9d-945c-c46d37de38e0",
        "colab": {
          "base_uri": "https://localhost:8080/",
          "height": 81
        }
      },
      "source": [
        "viendo_imagenes(1200)"
      ],
      "execution_count": 0,
      "outputs": [
        {
          "output_type": "execute_result",
          "data": {
            "image/png": "[encoded data removed]",
            "text/plain": [
              "<PIL.Image.Image image mode=RGB size=64x64 at 0x7F138E73DF60>"
            ]
          },
          "metadata": {
            "tags": []
          },
          "execution_count": 34
        }
      ]
    },
    {
      "cell_type": "code",
      "metadata": {
        "id": "s0dDajHspJvZ",
        "colab_type": "code",
        "outputId": "4005c581-69cc-43b7-9e30-605884efbaa7",
        "colab": {
          "base_uri": "https://localhost:8080/",
          "height": 34
        }
      },
      "source": [
        "from keras.utils.vis_utils import plot_model"
      ],
      "execution_count": 0,
      "outputs": [
        {
          "output_type": "stream",
          "text": [
            "Using TensorFlow backend.\n"
          ],
          "name": "stderr"
        }
      ]
    },
    {
      "cell_type": "code",
      "metadata": {
        "id": "6TmR-3jeMebJ",
        "colab_type": "code",
        "outputId": "7ff095ab-f7b0-4fdc-e7db-2f42dc8ed433",
        "colab": {
          "base_uri": "https://localhost:8080/",
          "height": 295
        }
      },
      "source": [
        "# Plot loss\n",
        "plt.title('Loss')\n",
        "plt.plot(hist.history['loss'], label='Training', linewidth=2)\n",
        "plt.plot(hist.history['val_loss'], label='Validation', linewidth=2)\n",
        "plt.legend()\n",
        "plt.xlabel('Epoch')\n",
        "plt.ylabel('Loss')\n",
        "plt.grid(True)\n",
        "plt.show()"
      ],
      "execution_count": 0,
      "outputs": [
        {
          "output_type": "display_data",
          "data": {
            "image/png": "[encoded data removed]",
            "text/plain": [
              "<Figure size 432x288 with 1 Axes>"
            ]
          },
          "metadata": {
            "tags": [],
            "needs_background": "light"
          }
        }
      ]
    },
    {
      "cell_type": "code",
      "metadata": {
        "id": "lw049_AcMehd",
        "colab_type": "code",
        "outputId": "4ab5c554-3c0b-4868-f7c0-d7f1b5e6962a",
        "colab": {
          "base_uri": "https://localhost:8080/",
          "height": 295
        }
      },
      "source": [
        "plt.plot(hist.history['accuracy'])\n",
        "plt.plot(hist.history['val_accuracy'])\n",
        "plt.title('model accuracy')\n",
        "plt.ylabel('accuracy')\n",
        "plt.xlabel('epoch')\n",
        "plt.legend(['train', 'test'], loc='upper left')\n",
        "plt.show()"
      ],
      "execution_count": 0,
      "outputs": [
        {
          "output_type": "display_data",
          "data": {
            "image/png": "[encoded data removed]",
            "text/plain": [
              "<Figure size 432x288 with 1 Axes>"
            ]
          },
          "metadata": {
            "tags": [],
            "needs_background": "light"
          }
        }
      ]
    },
    {
      "cell_type": "code",
      "metadata": {
        "id": "6dO8y_C6Mem8",
        "colab_type": "code",
        "colab": {}
      },
      "source": [
        ""
      ],
      "execution_count": 0,
      "outputs": []
    },
    {
      "cell_type": "code",
      "metadata": {
        "id": "VgTXAcd-Mesv",
        "colab_type": "code",
        "colab": {}
      },
      "source": [
        ""
      ],
      "execution_count": 0,
      "outputs": []
    },
    {
      "cell_type": "code",
      "metadata": {
        "id": "dUiRBPMqHXjt",
        "colab_type": "code",
        "colab": {}
      },
      "source": [
        "# Saving\n",
        "decoder.save('decorder.h5')\n",
        "encoder.save('encorder.h5')\n",
        "vae.save('vae.h5')  # creates a HDF5 file 'my_model.h5'"
      ],
      "execution_count": 0,
      "outputs": []
    },
    {
      "cell_type": "code",
      "metadata": {
        "id": "kUxahbItT83J",
        "colab_type": "code",
        "colab": {}
      },
      "source": [
        "del decoder\n",
        "del encoder \n",
        "del vae"
      ],
      "execution_count": 0,
      "outputs": []
    },
    {
      "cell_type": "code",
      "metadata": {
        "id": "E1gJBBbn2N23",
        "colab_type": "code",
        "colab": {}
      },
      "source": [
        ""
      ],
      "execution_count": 0,
      "outputs": []
    },
    {
      "cell_type": "code",
      "metadata": {
        "id": "li9BjmHa2N6m",
        "colab_type": "code",
        "colab": {}
      },
      "source": [
        ""
      ],
      "execution_count": 0,
      "outputs": []
    },
    {
      "cell_type": "code",
      "metadata": {
        "id": "OOMKbOTN2OR2",
        "colab_type": "code",
        "colab": {}
      },
      "source": [
        ""
      ],
      "execution_count": 0,
      "outputs": []
    },
    {
      "cell_type": "code",
      "metadata": {
        "id": "jVYBbCgl2OL1",
        "colab_type": "code",
        "colab": {}
      },
      "source": [
        ""
      ],
      "execution_count": 0,
      "outputs": []
    },
    {
      "cell_type": "code",
      "metadata": {
        "id": "5lhKQA_F2OKe",
        "colab_type": "code",
        "colab": {}
      },
      "source": [
        ""
      ],
      "execution_count": 0,
      "outputs": []
    },
    {
      "cell_type": "code",
      "metadata": {
        "id": "MRdNX18x2OEw",
        "colab_type": "code",
        "colab": {}
      },
      "source": [
        ""
      ],
      "execution_count": 0,
      "outputs": []
    },
    {
      "cell_type": "code",
      "metadata": {
        "id": "xfAAnx-A2ODP",
        "colab_type": "code",
        "colab": {}
      },
      "source": [
        ""
      ],
      "execution_count": 0,
      "outputs": []
    },
    {
      "cell_type": "code",
      "metadata": {
        "id": "FOgd7B402N5X",
        "colab_type": "code",
        "colab": {}
      },
      "source": [
        ""
      ],
      "execution_count": 0,
      "outputs": []
    }
  ]
}