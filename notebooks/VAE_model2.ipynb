{
 "cells": [
  {
   "cell_type": "code",
   "execution_count": 29,
   "metadata": {
    "colab": {
     "base_uri": "https://localhost:8080/",
     "height": 32
    },
    "colab_type": "code",
    "id": "B2kxbpO_agtZ",
    "outputId": "83872a00-1bc3-4fe5-c15e-1f67ae45c344"
   },
   "outputs": [
    {
     "name": "stdout",
     "output_type": "stream",
     "text": [
      "Drive already mounted at /content/drive; to attempt to forcibly remount, call drive.mount(\"/content/drive\", force_remount=True).\n"
     ]
    }
   ],
   "source": [
    "# Leemos los pickles de imagenes y embedding de texto\n",
    "# En caso contrario perdiamos mucho tiempo ...\n",
    "from google.colab import drive\n",
    "drive.mount('/content/drive') "
   ]
  },
  {
   "cell_type": "code",
   "execution_count": null,
   "metadata": {
    "colab": {},
    "colab_type": "code",
    "id": "I91k9utlb2Jm"
   },
   "outputs": [],
   "source": [
    "# Path donde se alojan los pickles (cambiarlo segun corresponda)\n",
    "path=\"/content/drive/My Drive/pickle_flicker8/\""
   ]
  },
  {
   "cell_type": "code",
   "execution_count": 17,
   "metadata": {
    "colab": {
     "base_uri": "https://localhost:8080/",
     "height": 32
    },
    "colab_type": "code",
    "id": "1uYNQGlzcWRq",
    "outputId": "af5fa7e3-1ced-4efe-8480-779967bc5b5e"
   },
   "outputs": [
    {
     "name": "stdout",
     "output_type": "stream",
     "text": [
      "x_test.pkl  x_train.pkl  y_test64.pkl  y_train64.pkl\n"
     ]
    }
   ],
   "source": [
    "# Verificamos qie exisnta los pickles en el path\n",
    "!ls /content/drive/'My Drive'/pickle_flicker8/"
   ]
  },
  {
   "cell_type": "markdown",
   "metadata": {
    "colab_type": "text",
    "id": "f7jroS6GAZ5u"
   },
   "source": [
    "**Importamos librerias relevantes**"
   ]
  },
  {
   "cell_type": "code",
   "execution_count": null,
   "metadata": {
    "colab": {},
    "colab_type": "code",
    "id": "COnbJVo1WOZ8"
   },
   "outputs": [],
   "source": [
    "import pickle\n",
    "import numpy as np\n",
    "import pandas as pd\n",
    "import matplotlib.pyplot as plt\n",
    "from tensorflow.keras.datasets import mnist\n",
    "\n",
    "import tensorflow as tf\n",
    "from tensorflow.keras.models import Model, Sequential\n",
    "from tensorflow.keras import layers\n",
    "from tensorflow.keras.layers import Input, Conv2D, Conv2DTranspose, Dense, \\\n",
    "Lambda, Dropout, UpSampling2D, MaxPooling2D\n",
    "from tensorflow.keras.losses import binary_crossentropy, MeanSquaredError,\\\n",
    "MeanAbsoluteError\n",
    "from tensorflow.keras.utils import plot_model\n",
    "from tensorflow.keras.optimizers import Adam, SGD, RMSprop\n",
    "from tensorflow.keras.backend import reshape"
   ]
  },
  {
   "cell_type": "code",
   "execution_count": null,
   "metadata": {
    "colab": {},
    "colab_type": "code",
    "id": "3ztNyt5DWOan"
   },
   "outputs": [],
   "source": [
    "# Carga pickles de imagenes a color (64,64,3)\n",
    "# Nota: se deben procesar los datos, dado que esta en una tupla\n",
    "\n",
    "# Datos de imagenes\n",
    "y_train_pk = np.load('/content/drive/My Drive/pickle_flicker8/y_train64.pkl', allow_pickle=True)\n",
    "y_test_pk = np.load('/content/drive/My Drive/pickle_flicker8/y_test64.pkl', allow_pickle=True)"
   ]
  },
  {
   "cell_type": "code",
   "execution_count": null,
   "metadata": {
    "colab": {
     "base_uri": "https://localhost:8080/",
     "height": 32
    },
    "colab_type": "code",
    "id": "TrG3HyDLkZp4",
    "outputId": "a7916e3e-cbe9-442f-a2ba-853430108cf2"
   },
   "outputs": [
    {
     "data": {
      "text/plain": [
       "(64, 64, 3)"
      ]
     },
     "execution_count": 6,
     "metadata": {
      "tags": []
     },
     "output_type": "execute_result"
    }
   ],
   "source": [
    "y_test_pk[:,1][0].shape"
   ]
  },
  {
   "cell_type": "code",
   "execution_count": null,
   "metadata": {
    "colab": {},
    "colab_type": "code",
    "id": "kIprDRSgWObA"
   },
   "outputs": [],
   "source": [
    "# Carga pickles de encaje de texto usando gloveB50\n",
    "# Nota: se deben procesar los datos, dado que esta en una tupla\n",
    "\n",
    "x_train_pk = np.load('/content/drive/My Drive/pickle_flicker8/x_train.pkl', allow_pickle=True)\n",
    "x_test_pk = np.load('/content/drive/My Drive/pickle_flicker8/x_test.pkl', allow_pickle=True)"
   ]
  },
  {
   "cell_type": "code",
   "execution_count": null,
   "metadata": {
    "colab": {},
    "colab_type": "code",
    "id": "Jvm9Lpm_WObU"
   },
   "outputs": [],
   "source": [
    "# Transformamos las tuplas de los pickles y modificamos la estructura de los array\n",
    "# que contienen para que los reconozca tensorflow\n",
    "x_train = x_train_pk[:,1]\n",
    "y_train = y_train_pk[:,1]\n",
    "\n",
    "x_test = x_test_pk[:,1]\n",
    "y_test = y_test_pk[:,1]\n",
    "\n",
    "\n",
    "# np.concatenate consolida en un array lo que teniamos antes(como array de arrays)\n",
    "a = np.concatenate(x_train, axis=0 )\n",
    "x_train = a.reshape(32364,50)\n",
    "\n",
    "c = np.concatenate(y_train, axis=0 )\n",
    "y_train = c.reshape(32364,64, 64, 3)/255\n",
    "\n",
    "b = np.concatenate(x_test, axis=0 )\n",
    "x_test = b.reshape(8091,50)\n",
    "\n",
    "#y_test = d.reshape(8091,64, 64, 3)/255\n",
    "d = np.concatenate(y_test, axis=0 )\n",
    "y_test = d.reshape(8091,64, 64, 3)/255\n"
   ]
  },
  {
   "cell_type": "code",
   "execution_count": null,
   "metadata": {
    "colab": {},
    "colab_type": "code",
    "id": "63Q9TAD7ol8i"
   },
   "outputs": [],
   "source": [
    "del y_train_pk\n",
    "del y_test_pk\n",
    "del x_train_pk\n",
    "del x_test_pk"
   ]
  },
  {
   "cell_type": "code",
   "execution_count": null,
   "metadata": {
    "colab": {
     "base_uri": "https://localhost:8080/",
     "height": 32
    },
    "colab_type": "code",
    "id": "ELjkK1JOpj_a",
    "outputId": "ab7eb5e5-d7a3-432f-9bba-f912c2e2ad77"
   },
   "outputs": [
    {
     "data": {
      "text/plain": [
       "(8091, 50)"
      ]
     },
     "execution_count": 10,
     "metadata": {
      "tags": []
     },
     "output_type": "execute_result"
    }
   ],
   "source": [
    "x_test.shape"
   ]
  },
  {
   "cell_type": "code",
   "execution_count": null,
   "metadata": {
    "colab": {},
    "colab_type": "code",
    "id": "1PmzrRZaWObo"
   },
   "outputs": [],
   "source": [
    "# Funcion qye convierte a tensores los arreglos de numpy (ya no se usa)\n",
    "# https://www.tensorflow.org/api_docs/python/tf/convert_to_tensor\n",
    "def my_func(arg):\n",
    "  arg = tf.convert_to_tensor(arg, dtype=tf.float32)\n",
    "  return arg"
   ]
  },
  {
   "cell_type": "code",
   "execution_count": null,
   "metadata": {
    "colab": {
     "base_uri": "https://localhost:8080/",
     "height": 80
    },
    "colab_type": "code",
    "id": "SyYZq0mWWOc2",
    "outputId": "0c465853-49c5-43f0-a49d-edb9216d1e74"
   },
   "outputs": [
    {
     "data": {
      "image/png": "[encoded data removed]",
      "text/plain": [
       "<PIL.Image.Image image mode=RGB size=64x64 at 0x7FDFF9E8CD30>"
      ]
     },
     "execution_count": 12,
     "metadata": {
      "tags": []
     },
     "output_type": "execute_result"
    }
   ],
   "source": [
    "# Probamos una imagen, para verificar la correcta manipulacion de datos\n",
    "import tensorflow as tf\n",
    "tf.keras.preprocessing.image.array_to_img(y_test[40])"
   ]
  },
  {
   "cell_type": "markdown",
   "metadata": {
    "colab_type": "text",
    "id": "c_9XFtaCBomm"
   },
   "source": [
    "**Modelo**\n",
    "\n",
    "Primero definimos una funcion auxiliar"
   ]
  },
  {
   "cell_type": "code",
   "execution_count": null,
   "metadata": {
    "colab": {},
    "colab_type": "code",
    "id": "5ytGP723WOdM"
   },
   "outputs": [],
   "source": [
    "class Sampling(layers.Layer):\n",
    "  \"\"\"Uses (z_mean, z_log_var) to sample z, the vector encoding a digit.\"\"\"\n",
    "\n",
    "  def call(self, inputs):\n",
    "    z_mean, z_log_var = inputs\n",
    "    batch = tf.shape(z_mean)[0]\n",
    "    dim = tf.shape(z_mean)[1]\n",
    "    epsilon = tf.keras.backend.random_normal(shape=(batch, dim))\n",
    "    return z_mean + tf.exp(0.5 * z_log_var) * epsilon"
   ]
  },
  {
   "cell_type": "markdown",
   "metadata": {
    "colab_type": "text",
    "id": "3EZ_AD7oBwZp"
   },
   "source": [
    "Definicion del encoder"
   ]
  },
  {
   "cell_type": "code",
   "execution_count": 24,
   "metadata": {
    "colab": {
     "base_uri": "https://localhost:8080/",
     "height": 329
    },
    "colab_type": "code",
    "id": "aPEXAoiwWOdb",
    "outputId": "1fa12bf1-6a63-424b-f648-ddfb5a7075ea"
   },
   "outputs": [
    {
     "name": "stdout",
     "output_type": "stream",
     "text": [
      "Model: \"encoder\"\n",
      "__________________________________________________________________________________________________\n",
      "Layer (type)                    Output Shape         Param #     Connected to                     \n",
      "==================================================================================================\n",
      "encoder_input (InputLayer)      [(None, 50)]         0                                            \n",
      "__________________________________________________________________________________________________\n",
      "dense_4 (Dense)                 (None, 100)          5100        encoder_input[0][0]              \n",
      "__________________________________________________________________________________________________\n",
      "z_mean (Dense)                  (None, 150)          15150       dense_4[0][0]                    \n",
      "__________________________________________________________________________________________________\n",
      "z_log_var (Dense)               (None, 150)          15150       dense_4[0][0]                    \n",
      "__________________________________________________________________________________________________\n",
      "sampling_1 (Sampling)           (None, 150)          0           z_mean[0][0]                     \n",
      "                                                                 z_log_var[0][0]                  \n",
      "==================================================================================================\n",
      "Total params: 35,400\n",
      "Trainable params: 35,400\n",
      "Non-trainable params: 0\n",
      "__________________________________________________________________________________________________\n"
     ]
    }
   ],
   "source": [
    "# Encoder\n",
    "# Nota: el input es consistente con el tamanio de Glove50\n",
    "# Modificar en caso de que probemos un encaje mas grande\n",
    "\n",
    "original_inputs = Input(shape=(50,), name='encoder_input')\n",
    "x = Dense(100, activation='relu')(original_inputs)\n",
    "z_mean = Dense(150, name='z_mean')(x)\n",
    "z_log_var = Dense(150, name='z_log_var')(x)\n",
    "z = Sampling()((z_mean, z_log_var))\n",
    "encoder = Model(inputs=original_inputs, outputs=z, name='encoder')\n",
    "\n",
    "# Final encoder\n",
    "encoder.summary()"
   ]
  },
  {
   "cell_type": "code",
   "execution_count": null,
   "metadata": {
    "colab": {
     "base_uri": "https://localhost:8080/",
     "height": 368
    },
    "colab_type": "code",
    "id": "E-YirY85Q-hy",
    "outputId": "77ab3191-1bd7-434c-d22e-c883338cdfe0"
   },
   "outputs": [
    {
     "data": {
      "image/png": "[encoded data removed]",
      "text/plain": [
       "<IPython.core.display.Image object>"
      ]
     },
     "execution_count": 15,
     "metadata": {
      "tags": []
     },
     "output_type": "execute_result"
    }
   ],
   "source": [
    "plot_model(encoder,show_layer_names=True)"
   ]
  },
  {
   "cell_type": "markdown",
   "metadata": {
    "colab_type": "text",
    "id": "SHOjtsbUCIE7"
   },
   "source": [
    "Definicion del decoder"
   ]
  },
  {
   "cell_type": "code",
   "execution_count": 25,
   "metadata": {
    "colab": {
     "base_uri": "https://localhost:8080/",
     "height": 312
    },
    "colab_type": "code",
    "id": "tETVZt__WOdo",
    "outputId": "246c894f-c9b2-403b-ded1-7a59622752e3"
   },
   "outputs": [
    {
     "name": "stdout",
     "output_type": "stream",
     "text": [
      "Model: \"decoder\"\n",
      "_________________________________________________________________\n",
      "Layer (type)                 Output Shape              Param #   \n",
      "=================================================================\n",
      "z_sampling (InputLayer)      [(None, 150)]             0         \n",
      "_________________________________________________________________\n",
      "dense_5 (Dense)              (None, 300)               45300     \n",
      "_________________________________________________________________\n",
      "dense_6 (Dense)              (None, 600)               180600    \n",
      "_________________________________________________________________\n",
      "dense_7 (Dense)              (None, 12288)             7385088   \n",
      "_________________________________________________________________\n",
      "tf_op_layer_Reshape_1 (Tenso [(1, 64, 64, 3)]          0         \n",
      "=================================================================\n",
      "Total params: 7,610,988\n",
      "Trainable params: 7,610,988\n",
      "Non-trainable params: 0\n",
      "_________________________________________________________________\n"
     ]
    }
   ],
   "source": [
    "# Decoder\n",
    "\n",
    "latent_inputs = Input(shape=(150,), name='z_sampling')\n",
    "x = Dense(300, activation='relu')(latent_inputs)\n",
    "x = Dense(600, activation='sigmoid')(x)\n",
    "x = Dense(12288, activation='sigmoid')(x)\n",
    "outputs = reshape(x, shape=(1, 64, 64, 3))\n",
    "decoder = Model(inputs=latent_inputs, outputs=outputs, name='decoder')\n",
    "\n",
    "# Final encoder\n",
    "decoder.summary()"
   ]
  },
  {
   "cell_type": "code",
   "execution_count": null,
   "metadata": {
    "colab": {
     "base_uri": "https://localhost:8080/",
     "height": 464
    },
    "colab_type": "code",
    "id": "21goi4lBRX0O",
    "outputId": "8469d2eb-da70-4c78-dc92-7f1e17d3527b"
   },
   "outputs": [
    {
     "data": {
      "image/png": "[encoded data removed]",
      "text/plain": [
       "<IPython.core.display.Image object>"
      ]
     },
     "execution_count": 17,
     "metadata": {
      "tags": []
     },
     "output_type": "execute_result"
    }
   ],
   "source": [
    "plot_model(decoder,show_layer_names=True)"
   ]
  },
  {
   "cell_type": "code",
   "execution_count": 26,
   "metadata": {
    "colab": {
     "base_uri": "https://localhost:8080/",
     "height": 362
    },
    "colab_type": "code",
    "id": "fD-5PNRJWOd5",
    "outputId": "fd31cff1-6276-4627-db0f-a5e7235386dd"
   },
   "outputs": [
    {
     "name": "stdout",
     "output_type": "stream",
     "text": [
      "Model: \"vae\"\n",
      "__________________________________________________________________________________________________\n",
      "Layer (type)                    Output Shape         Param #     Connected to                     \n",
      "==================================================================================================\n",
      "encoder_input (InputLayer)      [(None, 50)]         0                                            \n",
      "__________________________________________________________________________________________________\n",
      "dense_4 (Dense)                 (None, 100)          5100        encoder_input[0][0]              \n",
      "__________________________________________________________________________________________________\n",
      "z_mean (Dense)                  (None, 150)          15150       dense_4[0][0]                    \n",
      "__________________________________________________________________________________________________\n",
      "z_log_var (Dense)               (None, 150)          15150       dense_4[0][0]                    \n",
      "__________________________________________________________________________________________________\n",
      "sampling_1 (Sampling)           (None, 150)          0           z_mean[0][0]                     \n",
      "                                                                 z_log_var[0][0]                  \n",
      "__________________________________________________________________________________________________\n",
      "decoder (Model)                 (1, 64, 64, 3)       7610988     sampling_1[0][0]                 \n",
      "==================================================================================================\n",
      "Total params: 7,646,388\n",
      "Trainable params: 7,646,388\n",
      "Non-trainable params: 0\n",
      "__________________________________________________________________________________________________\n"
     ]
    }
   ],
   "source": [
    "# Modelo VAE\n",
    "outputs = decoder(z)\n",
    "vae = Model(inputs=original_inputs, outputs=outputs, name='vae')\n",
    "vae.summary()"
   ]
  },
  {
   "cell_type": "code",
   "execution_count": null,
   "metadata": {
    "colab": {
     "base_uri": "https://localhost:8080/",
     "height": 464
    },
    "colab_type": "code",
    "id": "U55TpotoRcUG",
    "outputId": "7af01b61-c299-485a-8c79-0a60a2570651"
   },
   "outputs": [
    {
     "data": {
      "image/png": "[encoded data removed]",
      "text/plain": [
       "<IPython.core.display.Image object>"
      ]
     },
     "execution_count": 19,
     "metadata": {
      "tags": []
     },
     "output_type": "execute_result"
    }
   ],
   "source": [
    "plot_model(vae, show_layer_names=True)"
   ]
  },
  {
   "cell_type": "code",
   "execution_count": null,
   "metadata": {
    "colab": {},
    "colab_type": "code",
    "id": "EZOtnqXRWOeI"
   },
   "outputs": [],
   "source": [
    "# Agregamos la divergencia Kullback Liber para regularizacion de funcion de perdida\n",
    "kl_loss = - 0.5 * tf.reduce_mean(\n",
    "    z_log_var - tf.square(z_mean) - tf.exp(z_log_var) + 1)\n",
    "vae.add_loss(kl_loss)"
   ]
  },
  {
   "cell_type": "code",
   "execution_count": null,
   "metadata": {
    "colab": {},
    "colab_type": "code",
    "id": "INK2vQMJA2-a"
   },
   "outputs": [],
   "source": []
  },
  {
   "cell_type": "markdown",
   "metadata": {
    "colab_type": "text",
    "id": "R-JANLXKC7SO"
   },
   "source": [
    "Entrenamos"
   ]
  },
  {
   "cell_type": "code",
   "execution_count": 28,
   "metadata": {
    "colab": {
     "base_uri": "https://localhost:8080/",
     "height": 477
    },
    "colab_type": "code",
    "id": "9ib1AmAiWOeu",
    "outputId": "f5194688-d20c-4a43-cda3-989e96840a5a"
   },
   "outputs": [
    {
     "name": "stdout",
     "output_type": "stream",
     "text": [
      "Epoch 1/14\n",
      "32364/32364 [==============================] - 122s 4ms/step - loss: 0.3122 - accuracy: 0.4703 - val_loss: 0.0669 - val_accuracy: 0.4887\n",
      "Epoch 2/14\n",
      "32364/32364 [==============================] - 121s 4ms/step - loss: 0.0668 - accuracy: 0.4722 - val_loss: 0.0671 - val_accuracy: 0.4872\n",
      "Epoch 3/14\n",
      "32364/32364 [==============================] - 120s 4ms/step - loss: 0.0667 - accuracy: 0.4758 - val_loss: 0.0668 - val_accuracy: 0.4861\n",
      "Epoch 4/14\n",
      "32364/32364 [==============================] - 120s 4ms/step - loss: 0.0667 - accuracy: 0.4773 - val_loss: 0.0667 - val_accuracy: 0.4583\n",
      "Epoch 5/14\n",
      "32364/32364 [==============================] - 121s 4ms/step - loss: 0.0667 - accuracy: 0.4729 - val_loss: 0.0667 - val_accuracy: 0.4809\n",
      "Epoch 6/14\n",
      "32364/32364 [==============================] - 125s 4ms/step - loss: 0.0667 - accuracy: 0.4743 - val_loss: 0.0667 - val_accuracy: 0.4919\n",
      "Epoch 7/14\n",
      "32364/32364 [==============================] - 125s 4ms/step - loss: 0.0667 - accuracy: 0.4776 - val_loss: 0.0667 - val_accuracy: 0.4722\n",
      "Epoch 8/14\n",
      "32364/32364 [==============================] - 123s 4ms/step - loss: 0.0667 - accuracy: 0.4748 - val_loss: 0.0667 - val_accuracy: 0.4781\n",
      "Epoch 9/14\n",
      "32364/32364 [==============================] - 122s 4ms/step - loss: 0.0667 - accuracy: 0.4693 - val_loss: 0.0667 - val_accuracy: 0.4913\n",
      "Epoch 10/14\n",
      "32364/32364 [==============================] - 120s 4ms/step - loss: 0.0667 - accuracy: 0.4772 - val_loss: 0.0667 - val_accuracy: 0.4734\n",
      "Epoch 11/14\n",
      "32364/32364 [==============================] - 120s 4ms/step - loss: 0.0667 - accuracy: 0.4740 - val_loss: 0.0667 - val_accuracy: 0.4687\n",
      "Epoch 12/14\n",
      "32364/32364 [==============================] - 120s 4ms/step - loss: 0.0667 - accuracy: 0.4728 - val_loss: 0.0667 - val_accuracy: 0.4810\n",
      "Epoch 13/14\n",
      "32364/32364 [==============================] - 119s 4ms/step - loss: 0.0667 - accuracy: 0.4710 - val_loss: 0.0667 - val_accuracy: 0.4895\n",
      "Epoch 14/14\n",
      "32364/32364 [==============================] - 120s 4ms/step - loss: 0.0667 - accuracy: 0.4758 - val_loss: 0.0667 - val_accuracy: 0.4691\n"
     ]
    }
   ],
   "source": [
    "# Train.\n",
    "optimizer = RMSprop(learning_rate=1e-3) #Adam(learning_rate=1e-4) #SGD(learning_rate=1e-4) # \n",
    "vae.compile(optimizer, loss = MeanSquaredError(), metrics=['accuracy'])\n",
    "hist=vae.fit(x_train,y_train, epochs=14, batch_size=1, shuffle=True, validation_data=(x_test,y_test) )"
   ]
  },
  {
   "cell_type": "code",
   "execution_count": null,
   "metadata": {
    "colab": {},
    "colab_type": "code",
    "id": "-8QStqR3Qf3w"
   },
   "outputs": [],
   "source": [
    "#plot_model(vae, show_layer_names=True)"
   ]
  },
  {
   "cell_type": "code",
   "execution_count": null,
   "metadata": {
    "colab": {},
    "colab_type": "code",
    "id": "knvVjLC9AFhu"
   },
   "outputs": [],
   "source": [
    "def viendo_imagenes(i):\n",
    "\n",
    "  pruebita= encoder.predict(np.array([x_test[i]]))\n",
    "  pruebita2= decoder.predict(pruebita)\n",
    "\n",
    "  return tf.keras.preprocessing.image.array_to_img(pruebita2.reshape(64,64,3) )"
   ]
  },
  {
   "cell_type": "code",
   "execution_count": 37,
   "metadata": {
    "colab": {
     "base_uri": "https://localhost:8080/",
     "height": 80
    },
    "colab_type": "code",
    "id": "O0ELZcoMHQ27",
    "outputId": "909da10c-ebdf-492b-e657-c4b4c57deff5"
   },
   "outputs": [
    {
     "data": {
      "image/png": "[encoded data removed]",
      "text/plain": [
       "<PIL.Image.Image image mode=RGB size=64x64 at 0x7F885C001860>"
      ]
     },
     "execution_count": 37,
     "metadata": {
      "tags": []
     },
     "output_type": "execute_result"
    }
   ],
   "source": [
    "viendo_imagenes(5)"
   ]
  },
  {
   "cell_type": "code",
   "execution_count": null,
   "metadata": {
    "colab": {
     "base_uri": "https://localhost:8080/",
     "height": 32
    },
    "colab_type": "code",
    "id": "s0dDajHspJvZ",
    "outputId": "4005c581-69cc-43b7-9e30-605884efbaa7"
   },
   "outputs": [
    {
     "name": "stderr",
     "output_type": "stream",
     "text": [
      "Using TensorFlow backend.\n"
     ]
    }
   ],
   "source": [
    "from keras.utils.vis_utils import plot_model"
   ]
  },
  {
   "cell_type": "code",
   "execution_count": 38,
   "metadata": {
    "colab": {
     "base_uri": "https://localhost:8080/",
     "height": 294
    },
    "colab_type": "code",
    "id": "6TmR-3jeMebJ",
    "outputId": "e6604c09-3db1-4354-b4d3-46302f73ead0"
   },
   "outputs": [
    {
     "data": {
      "image/png": "[encoded data removed]",
      "text/plain": [
       "<Figure size 432x288 with 1 Axes>"
      ]
     },
     "metadata": {
      "needs_background": "light",
      "tags": []
     },
     "output_type": "display_data"
    }
   ],
   "source": [
    "# Plot loss\n",
    "plt.title('Loss')\n",
    "plt.plot(hist.history['loss'], label='Training', linewidth=2)\n",
    "plt.plot(hist.history['val_loss'], label='Validation', linewidth=2)\n",
    "plt.legend()\n",
    "plt.xlabel('Epoch')\n",
    "plt.ylabel('Loss')\n",
    "plt.grid(True)\n",
    "plt.show()"
   ]
  },
  {
   "cell_type": "code",
   "execution_count": 39,
   "metadata": {
    "colab": {
     "base_uri": "https://localhost:8080/",
     "height": 294
    },
    "colab_type": "code",
    "id": "lw049_AcMehd",
    "outputId": "ff5ae4f2-4fbf-42d4-fa18-1b96d5ad8b96"
   },
   "outputs": [
    {
     "data": {
      "image/png": "[encoded data removed]",
      "text/plain": [
       "<Figure size 432x288 with 1 Axes>"
      ]
     },
     "metadata": {
      "needs_background": "light",
      "tags": []
     },
     "output_type": "display_data"
    }
   ],
   "source": [
    "plt.plot(hist.history['accuracy'])\n",
    "plt.plot(hist.history['val_accuracy'])\n",
    "plt.title('model accuracy')\n",
    "plt.ylabel('accuracy')\n",
    "plt.xlabel('epoch')\n",
    "plt.legend(['train', 'test'], loc='upper left')\n",
    "plt.show()"
   ]
  },
  {
   "cell_type": "code",
   "execution_count": null,
   "metadata": {
    "colab": {},
    "colab_type": "code",
    "id": "6dO8y_C6Mem8"
   },
   "outputs": [],
   "source": []
  },
  {
   "cell_type": "code",
   "execution_count": null,
   "metadata": {
    "colab": {},
    "colab_type": "code",
    "id": "VgTXAcd-Mesv"
   },
   "outputs": [],
   "source": []
  },
  {
   "cell_type": "code",
   "execution_count": null,
   "metadata": {
    "colab": {},
    "colab_type": "code",
    "id": "dUiRBPMqHXjt"
   },
   "outputs": [],
   "source": [
    "# Saving\n",
    "decoder.save('decorder.h5')\n",
    "encoder.save('encorder.h5')\n",
    "vae.save('vae.h5')  # creates a HDF5 file 'my_model.h5'"
   ]
  },
  {
   "cell_type": "code",
   "execution_count": null,
   "metadata": {
    "colab": {},
    "colab_type": "code",
    "id": "kUxahbItT83J"
   },
   "outputs": [],
   "source": [
    "del decoder\n",
    "del encoder \n",
    "del vae"
   ]
  },
  {
   "cell_type": "code",
   "execution_count": null,
   "metadata": {
    "colab": {},
    "colab_type": "code",
    "id": "E1gJBBbn2N23"
   },
   "outputs": [],
   "source": []
  },
  {
   "cell_type": "code",
   "execution_count": null,
   "metadata": {
    "colab": {},
    "colab_type": "code",
    "id": "li9BjmHa2N6m"
   },
   "outputs": [],
   "source": []
  },
  {
   "cell_type": "code",
   "execution_count": null,
   "metadata": {
    "colab": {
     "base_uri": "https://localhost:8080/",
     "height": 32
    },
    "colab_type": "code",
    "id": "OOMKbOTN2OR2",
    "outputId": "d3db9f55-4ce4-4379-eb8c-7c82dc585ba1"
   },
   "outputs": [
    {
     "data": {
      "text/plain": [
       "{'epochs': 10, 'steps': 32364, 'verbose': 1}"
      ]
     },
     "execution_count": 41,
     "metadata": {
      "tags": []
     },
     "output_type": "execute_result"
    }
   ],
   "source": [
    "hist.params"
   ]
  },
  {
   "cell_type": "code",
   "execution_count": null,
   "metadata": {
    "colab": {},
    "colab_type": "code",
    "id": "jVYBbCgl2OL1"
   },
   "outputs": [],
   "source": []
  },
  {
   "cell_type": "code",
   "execution_count": null,
   "metadata": {
    "colab": {},
    "colab_type": "code",
    "id": "5lhKQA_F2OKe"
   },
   "outputs": [],
   "source": []
  },
  {
   "cell_type": "code",
   "execution_count": null,
   "metadata": {
    "colab": {},
    "colab_type": "code",
    "id": "MRdNX18x2OEw"
   },
   "outputs": [],
   "source": []
  },
  {
   "cell_type": "code",
   "execution_count": null,
   "metadata": {
    "colab": {},
    "colab_type": "code",
    "id": "xfAAnx-A2ODP"
   },
   "outputs": [],
   "source": []
  },
  {
   "cell_type": "code",
   "execution_count": null,
   "metadata": {
    "colab": {},
    "colab_type": "code",
    "id": "FOgd7B402N5X"
   },
   "outputs": [],
   "source": []
  }
 ],
 "metadata": {
  "accelerator": "GPU",
  "colab": {
   "collapsed_sections": [],
   "name": "VAE_3.ipynb",
   "provenance": []
  },
  "kernelspec": {
   "display_name": "Python 3",
   "language": "python",
   "name": "python3"
  },
  "language_info": {
   "codemirror_mode": {
    "name": "ipython",
    "version": 3
   },
   "file_extension": ".py",
   "mimetype": "text/x-python",
   "name": "python",
   "nbconvert_exporter": "python",
   "pygments_lexer": "ipython3",
   "version": "3.7.6"
  }
 },
 "nbformat": 4,
 "nbformat_minor": 4
}
